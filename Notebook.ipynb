{
  "nbformat": 4,
  "nbformat_minor": 0,
  "metadata": {
    "colab": {
      "provenance": []
    },
    "kernelspec": {
      "name": "python3",
      "display_name": "Python 3"
    },
    "language_info": {
      "name": "python"
    }
  },
  "cells": [
    {
      "cell_type": "code",
      "source": [
        "from google.colab import drive\n",
        "drive.mount('/content/drive')"
      ],
      "metadata": {
        "colab": {
          "base_uri": "https://localhost:8080/"
        },
        "id": "_hHFGZb2OSCh",
        "outputId": "2c546c4f-5183-4828-976d-5a120e1cb8f2"
      },
      "execution_count": null,
      "outputs": [
        {
          "output_type": "stream",
          "name": "stdout",
          "text": [
            "Mounted at /content/drive\n"
          ]
        }
      ]
    },
    {
      "cell_type": "code",
      "execution_count": null,
      "metadata": {
        "colab": {
          "base_uri": "https://localhost:8080/"
        },
        "id": "MrmuPJSyKl2E",
        "outputId": "569b9cd2-437b-4add-94ea-dcb1c9e59afa"
      },
      "outputs": [
        {
          "output_type": "stream",
          "name": "stdout",
          "text": [
            "(1460, 81)\n"
          ]
        }
      ],
      "source": [
        "import pandas as pd\n",
        "\n",
        "file_path = \"/content/drive/MyDrive/Colab Notebooks/House Price Regression/\"\n",
        "# Load data\n",
        "train_df = pd.read_csv(file_path + \"train.csv\")\n",
        "\n",
        "# Quick overview\n",
        "print(train_df.shape)"
      ]
    },
    {
      "cell_type": "markdown",
      "source": [
        "<h1>Cleaning data</h1>"
      ],
      "metadata": {
        "id": "WMTk0JUjOnxU"
      }
    },
    {
      "cell_type": "code",
      "source": [
        "missing_values = train_df.isnull().sum().sort_values(ascending=False)\n",
        "print(missing_values[missing_values > 0])"
      ],
      "metadata": {
        "colab": {
          "base_uri": "https://localhost:8080/"
        },
        "id": "PJeJg5UwOnZL",
        "outputId": "161833af-3b76-4560-a455-36f21051b620"
      },
      "execution_count": null,
      "outputs": [
        {
          "output_type": "stream",
          "name": "stdout",
          "text": [
            "PoolQC          1453\n",
            "MiscFeature     1406\n",
            "Alley           1369\n",
            "Fence           1179\n",
            "MasVnrType       872\n",
            "FireplaceQu      690\n",
            "LotFrontage      259\n",
            "GarageQual        81\n",
            "GarageFinish      81\n",
            "GarageType        81\n",
            "GarageYrBlt       81\n",
            "GarageCond        81\n",
            "BsmtFinType2      38\n",
            "BsmtExposure      38\n",
            "BsmtCond          37\n",
            "BsmtQual          37\n",
            "BsmtFinType1      37\n",
            "MasVnrArea         8\n",
            "Electrical         1\n",
            "dtype: int64\n"
          ]
        }
      ]
    },
    {
      "cell_type": "markdown",
      "source": [
        "<h3>Filling Categorical Columns</h3>\n",
        "For Categorical columns with lots of missing data, this is due to the dataset having NA mean the home doesn't have that feature, so I will fill these features with \"None\" as a placeholder for NA\n",
        "\n",
        "*   For Garage Year Built, I am going to assume this is the same as year built\n",
        "*   For Electrical, I am going to fill this value with the mode considering there is only one value missing.\n"
      ],
      "metadata": {
        "id": "eQl9EheVPd_1"
      }
    },
    {
      "cell_type": "code",
      "source": [
        "# Fill categorical\n",
        "categorical_cols = [\"MasVnrType\", \"FireplaceQu\", \"GarageQual\", \"GarageFinish\",\n",
        "                    \"GarageType\", \"GarageCond\", \"BsmtFinType2\", \"BsmtExposure\",\n",
        "                    \"BsmtCond\", \"BsmtQual\", \"BsmtFinType1\", \"PoolQC\", \"MiscFeature\", \"Alley\", \"Fence\"]\n",
        "\n",
        "train_df[categorical_cols] = train_df[categorical_cols].fillna(\"None\")\n",
        "\n",
        "# Fill GarageYrBlt\n",
        "train_df[\"GarageYrBlt\"] = train_df[\"GarageYrBlt\"].fillna(train_df[\"YearBuilt\"])\n",
        "\n",
        "# Fill Electrical\n",
        "train_df[\"Electrical\"] = train_df[\"Electrical\"].fillna(train_df[\"Electrical\"].mode()[0])\n"
      ],
      "metadata": {
        "id": "MZwb9vmFPds4"
      },
      "execution_count": null,
      "outputs": []
    },
    {
      "cell_type": "markdown",
      "source": [
        "<h3>Filling Numerical values</h3>\n",
        "\n",
        "*   For LotFronage I am going to use the median value of in their neighborhood group because they are most likely similar\n",
        "\n",
        "*   For Masonry Veneer Area I am going to fill NA values with 0\n",
        "\n",
        "*   I am also going to add a feature TotalSD(Total Square Feet), HouseAge, and Remodel Age (Laste time it was remodeled)"
      ],
      "metadata": {
        "id": "VZ2heGr9P-4w"
      }
    },
    {
      "cell_type": "code",
      "source": [
        "# Fill LotFrontage\n",
        "train_df[\"LotFrontage\"] = train_df.groupby(\"Neighborhood\")[\"LotFrontage\"].transform(lambda x: x.fillna(x.median()))\n",
        "\n",
        "# Fill MasVnrArea\n",
        "train_df[\"MasVnrArea\"] = train_df[\"MasVnrArea\"].fillna(0)\n",
        "\n",
        "# Adding Feature Total Square Feet\n",
        "train_df['TotalSF'] = train_df['GrLivArea'] + train_df['TotalBsmtSF']\n",
        "\n",
        "# Adding Feature House Age\n",
        "train_df['HouseAge'] = train_df['YrSold'] - train_df['YearBuilt']\n",
        "\n",
        "# Adding Feature Remodel Age\n",
        "train_df['RemodelAge'] = train_df['YrSold'] - train_df['YearRemodAdd']\n",
        "\n",
        "print(train_df.isnull().sum().sum())"
      ],
      "metadata": {
        "colab": {
          "base_uri": "https://localhost:8080/"
        },
        "id": "JDIykxgeP_G8",
        "outputId": "dfb97ab2-ff88-4fd5-81b8-1c4fa84b9213"
      },
      "execution_count": null,
      "outputs": [
        {
          "output_type": "stream",
          "name": "stdout",
          "text": [
            "0\n"
          ]
        }
      ]
    },
    {
      "cell_type": "markdown",
      "source": [
        "<h4>As you can see, the training data set now has no missing values and now I can Convert categorical features into numerical with one hot encoding</h4>\n",
        "\n",
        "*   I will make 2 dataframes - one with categorical features and one with numerical features, excluding the target variable from these dataframes\n",
        "*   Then I will one-hot encode the categorical features\n",
        "*   Lastly, I am going to standardize the numerical values so that algorithms sensitive to scale will not be affected\n"
      ],
      "metadata": {
        "id": "O3rRQz8oRvFF"
      }
    },
    {
      "cell_type": "code",
      "source": [
        "from sklearn.preprocessing import OneHotEncoder, StandardScaler\n",
        "\n",
        "categorical_features = train_df.select_dtypes(include=['object']).columns\n",
        "numerical_features = train_df.select_dtypes(exclude=['object']).columns.drop('SalePrice')\n",
        "\n",
        "# One-hot encoding\n",
        "train_df = pd.get_dummies(train_df, columns=categorical_features, drop_first=True)\n",
        "train_df = train_df.astype(int)\n",
        "\n",
        "# Standardize\n",
        "scaler = StandardScaler()\n",
        "train_df[numerical_features] = scaler.fit_transform(train_df[numerical_features])\n"
      ],
      "metadata": {
        "id": "WxYMNVsPS_3M"
      },
      "execution_count": null,
      "outputs": []
    },
    {
      "cell_type": "markdown",
      "source": [
        "<h4> Now that the training set is all ready, I am going to apply the same changes to the test set</h4>"
      ],
      "metadata": {
        "id": "YkP8aLWAVyRr"
      }
    },
    {
      "cell_type": "markdown",
      "source": [
        "<h4> Now that there are no missing values in the dataset, I can now split the training data into training and validation sets, and train some models</h4>"
      ],
      "metadata": {
        "id": "ix1anooGwbeu"
      }
    },
    {
      "cell_type": "code",
      "source": [
        "from sklearn.model_selection import train_test_split, GridSearchCV\n",
        "\n",
        "# Features\n",
        "X = train_df.drop(columns=['SalePrice'])\n",
        "\n",
        "# Target\n",
        "y = train_df['SalePrice']\n",
        "\n",
        "# Split the data into training and validation sets (80% training, 20% validation)\n",
        "X_train, X_valid, y_train, y_valid = train_test_split(X, y, test_size=0.2, random_state=42)\n",
        "\n",
        "scaler = StandardScaler()\n",
        "X_train[numerical_features] = scaler.fit_transform(X_train[numerical_features])\n",
        "X_valid[numerical_features] = scaler.transform(X_valid[numerical_features])\n"
      ],
      "metadata": {
        "id": "oU76_ssfJTeM"
      },
      "execution_count": null,
      "outputs": []
    },
    {
      "cell_type": "code",
      "source": [
        "# prompt: get me the mean and standard deviation of the SalePrice Column\n",
        "\n",
        "import pandas as pd\n",
        "\n",
        "# Assuming 'train_df' is already loaded as in your provided code.\n",
        "# If not, uncomment and adjust the file path below.\n",
        "# from google.colab import drive\n",
        "# drive.mount('/content/drive')\n",
        "# file_path = \"/content/drive/MyDrive/Colab Notebooks/House Price Regression/\"\n",
        "# train_df = pd.read_csv(file_path + \"train.csv\")\n",
        "\n",
        "# Calculate mean and standard deviation of 'SalePrice'\n",
        "mean_saleprice = train_df['SalePrice'].mean()\n",
        "std_saleprice = train_df['SalePrice'].std()\n",
        "\n",
        "print(f\"Mean of SalePrice: {mean_saleprice}\")\n",
        "print(f\"Standard Deviation of SalePrice: {std_saleprice}\")\n"
      ],
      "metadata": {
        "colab": {
          "base_uri": "https://localhost:8080/"
        },
        "id": "HMxzuK4aydE6",
        "outputId": "25d104b3-f014-4cb6-ea36-772e9c6906ae"
      },
      "execution_count": null,
      "outputs": [
        {
          "output_type": "stream",
          "name": "stdout",
          "text": [
            "Mean of SalePrice: 180921.19589041095\n",
            "Standard Deviation of SalePrice: 79442.50288288663\n"
          ]
        }
      ]
    },
    {
      "cell_type": "markdown",
      "source": [
        "I am also going to score each models scores in an array, so I can compare them"
      ],
      "metadata": {
        "id": "CU4tnFX_5RVG"
      }
    },
    {
      "cell_type": "code",
      "source": [
        "model_rmse_scores = {}\n",
        "model_r2_scores = {}\n",
        "model_mae_scores = {}\n",
        "model_time_scores = {}"
      ],
      "metadata": {
        "id": "W4EHkswY5YZf"
      },
      "execution_count": null,
      "outputs": []
    },
    {
      "cell_type": "markdown",
      "source": [
        "<h2> Linear Regression</h2>"
      ],
      "metadata": {
        "id": "aXqkzY3MJsK0"
      }
    },
    {
      "cell_type": "code",
      "source": [
        "from sklearn.linear_model import LinearRegression\n",
        "from sklearn.metrics import mean_absolute_error\n",
        "from sklearn.metrics import mean_squared_error\n",
        "from sklearn.metrics import r2_score\n",
        "import time\n",
        "import numpy as np\n",
        "\n",
        "start_time_train = time.time()\n",
        "linear_model = LinearRegression()\n",
        "linear_model.fit(X_train, y_train)\n",
        "end_time_train = time.time()\n",
        "lin_time = end_time_train - start_time_train\n",
        "\n",
        "# Predict and Evaluate\n",
        "y_valid_pred = linear_model.predict(X_valid)\n",
        "lin_rmse = np.sqrt(mean_squared_error(y_valid, y_valid_pred))\n",
        "lin_r2 = r2_score(y_valid, y_valid_pred)\n",
        "lin_mae = mean_absolute_error(y_valid, y_valid_pred)\n",
        "\n",
        "model_rmse_scores.update({'Linear': lin_rmse})\n",
        "model_r2_scores.update({'Linear': lin_r2})\n",
        "model_mae_scores.update({'Linear': lin_mae})\n",
        "model_time_scores.update({'Linear': lin_time})\n",
        "\n",
        "print(f\"Root Mean Squared Error: {lin_rmse: .4f}\")\n",
        "print(f\"R-squared: {lin_r2:.4f}\")\n",
        "print(f\"Mean Absolute Error: {lin_mae:.4f}\")\n",
        "print(f\"Training time:{lin_time:.4f}\\n\")"
      ],
      "metadata": {
        "colab": {
          "base_uri": "https://localhost:8080/"
        },
        "id": "A7NJc7sPJsuR",
        "outputId": "0bcc0345-8804-432c-f46e-7bfd66136940"
      },
      "execution_count": null,
      "outputs": [
        {
          "output_type": "stream",
          "name": "stdout",
          "text": [
            "Root Mean Squared Error:  83215.7466\n",
            "R-squared: 0.0972\n",
            "Mean Absolute Error: 23965.9897\n",
            "Training time:0.0606\n",
            "\n"
          ]
        }
      ]
    },
    {
      "cell_type": "markdown",
      "source": [
        "Given that the r squared score on the linear regression is so low, I will not use this model."
      ],
      "metadata": {
        "id": "0fz6sx70OsXz"
      }
    },
    {
      "cell_type": "markdown",
      "source": [
        "<h2>Support Vector Regression</h2>"
      ],
      "metadata": {
        "id": "KrDErgReOlEo"
      }
    },
    {
      "cell_type": "code",
      "source": [
        "from sklearn.svm import SVR\n",
        "# AFter GridSearchCV best parameters\n",
        "param_grid = {\n",
        "    'kernel': ['poly'],\n",
        "    'C': [1000],\n",
        "    'epsilon': [1000],\n",
        "    'gamma': ['scale'],\n",
        "    'degree': [3],\n",
        "    'coef0': [3]\n",
        "}\n",
        "\n",
        "start_time_train = time.time()\n",
        "svr = SVR(kernel='poly', C=1000, epsilon=1000, gamma='scale', degree=3, coef0=3)\n",
        "svr.fit(X_train, y_train)\n",
        "end_time_train = time.time()\n",
        "svr_time = end_time_train - start_time_train\n",
        "\n",
        "svr_predictions = svr.predict(X_valid)\n",
        "svr_rmse = np.sqrt(mean_squared_error(y_valid, svr_predictions))\n",
        "svr_r2 = r2_score(y_valid, svr_predictions)\n",
        "svr_mae = mean_absolute_error(y_valid, svr_predictions)\n",
        "vector_count = svr.support_vectors_.shape[0]\n",
        "\n",
        "model_rmse_scores.update({'SVR': svr_rmse})\n",
        "model_r2_scores.update({'SVR': svr_r2})\n",
        "model_mae_scores.update({'SVR': svr_mae})\n",
        "model_time_scores.update({'SVR': svr_time})\n",
        "\n",
        "print(f\"Root Mean Squared Error: {svr_rmse: .4f}\")\n",
        "print(f\"R-squared: {svr_r2:.4f}\")\n",
        "print(f\"Mean Absolute Error: {svr_mae:.4f}\")\n",
        "print(f\"Training time:{svr_time:.4f}\\n\")\n",
        "print(f\"Support Vector number:{vector_count}\")"
      ],
      "metadata": {
        "colab": {
          "base_uri": "https://localhost:8080/"
        },
        "id": "sW_z7sl1PZya",
        "outputId": "c131ba2e-18e7-40d6-88a3-97e97cda2256"
      },
      "execution_count": null,
      "outputs": [
        {
          "output_type": "stream",
          "name": "stdout",
          "text": [
            "Root Mean Squared Error:  25644.7244\n",
            "R-squared: 0.9143\n",
            "Mean Absolute Error: 14830.1139\n",
            "Training time:0.2693\n",
            "\n",
            "Support Vector number:1105\n"
          ]
        }
      ]
    },
    {
      "cell_type": "markdown",
      "source": [
        "<h2> Ridge Regression</h2>"
      ],
      "metadata": {
        "id": "_21gkYgmKotb"
      }
    },
    {
      "cell_type": "code",
      "source": [
        "from sklearn.linear_model import Ridge\n",
        "# I ran a GridSearchCV to find the best alpha\n",
        "best_ridge = {'alpha': 10}\n",
        "\n",
        "start_time_train = time.time()\n",
        "ridge = Ridge(alpha=10)\n",
        "ridge.fit(X_train, y_train)\n",
        "end_time_train = time.time()\n",
        "ridge_time = end_time_train - start_time_train\n",
        "\n",
        "ridge_predictions = ridge.predict(X_valid)\n",
        "ridge_rmse = np.sqrt(mean_squared_error(y_valid, ridge_predictions))\n",
        "ridge_r2 = r2_score(y_valid, ridge_predictions)\n",
        "ridge_mae = mean_absolute_error(y_valid, ridge_predictions)\n",
        "\n",
        "model_rmse_scores.update({'Ridge Regression': ridge_rmse})\n",
        "model_r2_scores.update({'Ridge Regression': ridge_r2})\n",
        "model_mae_scores.update({'Ridge Regression': ridge_mae})\n",
        "model_time_scores.update({'Ridge Regression': ridge_time})\n",
        "\n",
        "print(\"Ridge Regression\")\n",
        "print(f\"Root Mean Squared Error: {ridge_rmse:.4f}\")\n",
        "print(f\"R-squared: {ridge_r2:.4f}\\n\")\n",
        "print(f\"Training time:{ridge_time:.4f}\\n\")"
      ],
      "metadata": {
        "colab": {
          "base_uri": "https://localhost:8080/"
        },
        "id": "mUytOtAbKoX-",
        "outputId": "faea4cdc-48e9-4282-b8fd-7230a92146b8"
      },
      "execution_count": null,
      "outputs": [
        {
          "output_type": "stream",
          "name": "stdout",
          "text": [
            "Ridge Regression\n",
            "Root Mean Squared Error: 30604.8165\n",
            "R-squared: 0.8779\n",
            "\n",
            "Training time:0.0230\n",
            "\n"
          ]
        }
      ]
    },
    {
      "cell_type": "markdown",
      "source": [
        "<h2> Lasso Regression</h2>"
      ],
      "metadata": {
        "id": "uMF2iACdKoGB"
      }
    },
    {
      "cell_type": "code",
      "source": [
        "from sklearn.linear_model import Lasso\n",
        "# I ran a GridSearchCV to find the best alpha\n",
        "best_lasso = {'alpha': 100}\n",
        "\n",
        "start_time_train = time.time()\n",
        "lasso = Lasso(max_iter=5000, alpha=100)\n",
        "lasso.fit(X_train, y_train)\n",
        "end_time_train = time.time()\n",
        "lasso_time = end_time_train - start_time_train\n",
        "\n",
        "lasso_predictions = lasso.predict(X_valid)\n",
        "lasso_rmse = np.sqrt(mean_squared_error(y_valid, lasso_predictions))\n",
        "lasso_r2 = r2_score(y_valid, lasso_predictions)\n",
        "lasso_mae = mean_absolute_error(y_valid, lasso_predictions)\n",
        "\n",
        "model_rmse_scores.update({'Lasso Regression': lasso_rmse})\n",
        "model_r2_scores.update({'Lasso Regression': lasso_r2})\n",
        "model_mae_scores.update({'Lasso Regression': lasso_mae})\n",
        "model_time_scores.update({'Lasso Regression': lasso_time})\n",
        "\n",
        "print(\"Lasso Regression\")\n",
        "print(f\"Root Mean Squared Error: {lasso_rmse:.4f}\")\n",
        "print(f\"R-squared: {lasso_r2:.4f}\\n\")"
      ],
      "metadata": {
        "colab": {
          "base_uri": "https://localhost:8080/"
        },
        "id": "HmBO49_aKo_F",
        "outputId": "9e62aaf1-b664-4941-a9a9-d38ee0a21b10"
      },
      "execution_count": null,
      "outputs": [
        {
          "output_type": "stream",
          "name": "stdout",
          "text": [
            "Lasso Regression\n",
            "Root Mean Squared Error: 31256.6601\n",
            "R-squared: 0.8726\n",
            "\n"
          ]
        }
      ]
    },
    {
      "cell_type": "markdown",
      "source": [
        "A larger Alpha performed better with lasso regression due to the increase in bias and the model not overfitting the data."
      ],
      "metadata": {
        "id": "B62qw5_Kqvl-"
      }
    },
    {
      "cell_type": "markdown",
      "source": [
        "<h2>Random Forest Regressor</h2>"
      ],
      "metadata": {
        "id": "zRVC-nq0M-1b"
      }
    },
    {
      "cell_type": "markdown",
      "source": [
        "I chose to go with the Random Forest Regressor because it is more robust and can avoid overfitting better than a single decision tree, which will be helpful for this dataset that doesn't have many records"
      ],
      "metadata": {
        "id": "MT4_RS1JnA2I"
      }
    },
    {
      "cell_type": "code",
      "source": [
        "from sklearn.ensemble import RandomForestRegressor\n",
        "# Running the Random Forest took very long with all of the parameters\n",
        "# I had to test one estimator at a time\n",
        "best_rf = {\n",
        "    'n_estimators': [150],\n",
        "    'max_depth': [30],\n",
        "    'min_samples_split': [5],\n",
        "    'min_samples_leaf': [1]\n",
        "}\n",
        "\n",
        "start_time_train = time.time()\n",
        "rf = RandomForestRegressor(n_estimators=150, max_depth=30,\n",
        "                           min_samples_split=5, min_samples_leaf=1,random_state=42)\n",
        "rf.fit(X_train, y_train)\n",
        "end_time_train = time.time()\n",
        "rf_time = end_time_train - start_time_train\n",
        "\n",
        "rf_predictions = rf.predict(X_valid)\n",
        "rf_rmse = np.sqrt(mean_squared_error(y_valid, rf_predictions))\n",
        "rf_r2 = r2_score(y_valid, rf_predictions)\n",
        "rf_mae = mean_absolute_error(y_valid, rf_predictions)\n",
        "\n",
        "model_rmse_scores.update({'Random Forest': rf_rmse})\n",
        "model_r2_scores.update({'Random Forest': rf_r2})\n",
        "model_mae_scores.update({'Random Forest': rf_mae})\n",
        "model_time_scores.update({'Random Forest': rf_time})\n",
        "\n",
        "print(\"Random Forest Regressor (GridSearchCV)\")\n",
        "print(f\"Root Mean Squared Error: {rf_rmse:.4f}\")\n",
        "print(f\"R-squared: {rf_r2:.4f}\\n\")\n",
        "print(f\"Training Runtime: {rf_time:.4f} seconds\")"
      ],
      "metadata": {
        "colab": {
          "base_uri": "https://localhost:8080/"
        },
        "id": "4cBlhS9uNBZ-",
        "outputId": "02fab12a-feff-462d-f083-df43ff13f8cd"
      },
      "execution_count": null,
      "outputs": [
        {
          "output_type": "stream",
          "name": "stdout",
          "text": [
            "Random Forest Regressor (GridSearchCV)\n",
            "Root Mean Squared Error: 30089.9626\n",
            "R-squared: 0.8820\n",
            "\n",
            "Training Runtime: 9.5498 seconds\n"
          ]
        }
      ]
    },
    {
      "cell_type": "markdown",
      "source": [
        "<h2>XGBoost Regressor</h2>"
      ],
      "metadata": {
        "id": "LQJxXDDeN9k4"
      }
    },
    {
      "cell_type": "markdown",
      "source": [
        "We chose the XGBoost over the gradient boosting regressor because it is more advanced and supports parallel processing and regularization"
      ],
      "metadata": {
        "id": "dHleS08DpSmN"
      }
    },
    {
      "cell_type": "code",
      "source": [
        "from xgboost import XGBRegressor\n",
        "import time\n",
        "\n",
        "# After running a GridSearchCV on the XGBoost regressor, these were the best parameters found\n",
        "best_xgb = {\n",
        "    'n_estimators': [1000],\n",
        "    'learning_rate': [0.1],\n",
        "    'max_depth': [3]\n",
        "}\n",
        "start_time_train = time.time()\n",
        "xgb = XGBRegressor(n_estimators=1000, learning_rate=0.1, max_depth=3, random_state=42)\n",
        "xgb.fit(X_train, y_train)\n",
        "end_time_train = time.time()\n",
        "xgb_time = end_time_train - start_time_train\n",
        "\n",
        "xgb_predictions = xgb.predict(X_valid)\n",
        "xgb_rmse = np.sqrt(mean_squared_error(y_valid, xgb_predictions))\n",
        "xgb_r2 = r2_score(y_valid, xgb_predictions)\n",
        "xgb_mae = mean_absolute_error(y_valid, xgb_predictions)\n",
        "\n",
        "\n",
        "model_rmse_scores.update({'XGBoost': xgb_rmse})\n",
        "model_r2_scores.update({'XGBoost': xgb_r2})\n",
        "model_mae_scores.update({'XGBoost': xgb_mae})\n",
        "model_time_scores.update({'XGBoost': xgb_time})\n",
        "\n",
        "print(\"XGBoost Regressor \")\n",
        "print(f\"Root Mean Squared Error: {xgb_rmse:.4f}\")\n",
        "print(f\"R-squared: {xgb_r2:.4f}\\n\")\n",
        "print(f\"Training Runtime: {xgb_time:.4f} seconds\")\n"
      ],
      "metadata": {
        "id": "10qOecWSOkiL",
        "colab": {
          "base_uri": "https://localhost:8080/"
        },
        "outputId": "3f215d8b-df1a-42e8-f131-e92b6328e3f1"
      },
      "execution_count": null,
      "outputs": [
        {
          "output_type": "stream",
          "name": "stdout",
          "text": [
            "XGBoost Regressor \n",
            "Root Mean Squared Error: 26753.5657\n",
            "R-squared: 0.9067\n",
            "\n",
            "Training Runtime: 16.2176 seconds\n"
          ]
        }
      ]
    },
    {
      "cell_type": "markdown",
      "source": [
        "<h2>Neural Network</h2>"
      ],
      "metadata": {
        "id": "tb6dfXAEQYc8"
      }
    },
    {
      "cell_type": "code",
      "source": [
        "import tensorflow as tf\n",
        "from tensorflow import keras\n",
        "from tensorflow.keras.callbacks import EarlyStopping\n",
        "\n",
        "\n",
        "dataset = tf.data.Dataset.from_tensor_slices((X_train, y_train))\n",
        "dataset = dataset.cache()\n",
        "tf.data.AUTOTUNE\n",
        "dataset = dataset.batch(32)\n",
        "dataset = dataset.prefetch(tf.data.AUTOTUNE)\n",
        "\n",
        "start_time_train = time.time()\n",
        "nn = keras.Sequential([\n",
        "    keras.layers.Dense(64, activation='relu', input_shape=(X_train.shape[1],)),\n",
        "    keras.layers.Dense(32, activation='relu'),\n",
        "    keras.layers.Dense(1)  # Output layer\n",
        "])\n",
        "nn.compile(optimizer='adam', loss='mse')\n",
        "early_stopping = EarlyStopping(\n",
        "    monitor='val_loss',\n",
        "    patience=60,\n",
        "    restore_best_weights=True,\n",
        "    verbose=1\n",
        ")\n",
        "best_weights_nn = nn.fit(\n",
        "    X_train,\n",
        "    y_train,\n",
        "    epochs=600,\n",
        "    batch_size=32,\n",
        "    validation_split=0.2,\n",
        "    callbacks=[early_stopping]\n",
        ")\n",
        "end_time_train = time.time()\n",
        "nn_time = end_time_train - start_time_train\n",
        "\n",
        "# Predict and Evaluate Neural Network\n",
        "nn_predictions = nn.predict(X_valid)\n",
        "nn_rmse = np.sqrt(mean_squared_error(y_valid, nn_predictions))\n",
        "nn_r2 = r2_score(y_valid, nn_predictions)\n",
        "nn_mae = mean_absolute_error(y_valid, nn_predictions)\n",
        "\n",
        "model_rmse_scores.update({'Neural Network': nn_rmse})\n",
        "model_r2_scores.update({'Neural Network': nn_r2})\n",
        "model_mae_scores.update({'Neural Network': nn_mae})\n",
        "model_time_scores.update({'Neural Network': nn_time})\n",
        "\n",
        "print(f\"Root Mean Squared Error: {nn_rmse}\")\n",
        "print(f\"R-squared: {nn_r2}\")\n",
        "print(f\"Mean Absolute Error: {nn_mae}\")\n",
        "print(f\"Training time:{nn_time:.4f}\\n\")"
      ],
      "metadata": {
        "id": "Cbtp9ooSPkMe",
        "colab": {
          "base_uri": "https://localhost:8080/"
        },
        "outputId": "9a0daa9a-98ef-4c33-c71f-64ea7aa124b0",
        "collapsed": true
      },
      "execution_count": null,
      "outputs": [
        {
          "output_type": "stream",
          "name": "stdout",
          "text": [
            "Epoch 1/600\n"
          ]
        },
        {
          "output_type": "stream",
          "name": "stderr",
          "text": [
            "/usr/local/lib/python3.11/dist-packages/keras/src/layers/core/dense.py:87: UserWarning: Do not pass an `input_shape`/`input_dim` argument to a layer. When using Sequential models, prefer using an `Input(shape)` object as the first layer in the model instead.\n",
            "  super().__init__(activity_regularizer=activity_regularizer, **kwargs)\n"
          ]
        },
        {
          "output_type": "stream",
          "name": "stdout",
          "text": [
            "\u001b[1m30/30\u001b[0m \u001b[32m━━━━━━━━━━━━━━━━━━━━\u001b[0m\u001b[37m\u001b[0m \u001b[1m1s\u001b[0m 10ms/step - loss: 40637509632.0000 - val_loss: 37839056896.0000\n",
            "Epoch 2/600\n",
            "\u001b[1m30/30\u001b[0m \u001b[32m━━━━━━━━━━━━━━━━━━━━\u001b[0m\u001b[37m\u001b[0m \u001b[1m0s\u001b[0m 4ms/step - loss: 40525266944.0000 - val_loss: 37825556480.0000\n",
            "Epoch 3/600\n",
            "\u001b[1m30/30\u001b[0m \u001b[32m━━━━━━━━━━━━━━━━━━━━\u001b[0m\u001b[37m\u001b[0m \u001b[1m0s\u001b[0m 4ms/step - loss: 38253420544.0000 - val_loss: 37786759168.0000\n",
            "Epoch 4/600\n",
            "\u001b[1m30/30\u001b[0m \u001b[32m━━━━━━━━━━━━━━━━━━━━\u001b[0m\u001b[37m\u001b[0m \u001b[1m0s\u001b[0m 4ms/step - loss: 38950551552.0000 - val_loss: 37702393856.0000\n",
            "Epoch 5/600\n",
            "\u001b[1m30/30\u001b[0m \u001b[32m━━━━━━━━━━━━━━━━━━━━\u001b[0m\u001b[37m\u001b[0m \u001b[1m0s\u001b[0m 4ms/step - loss: 37814575104.0000 - val_loss: 37553573888.0000\n",
            "Epoch 6/600\n",
            "\u001b[1m30/30\u001b[0m \u001b[32m━━━━━━━━━━━━━━━━━━━━\u001b[0m\u001b[37m\u001b[0m \u001b[1m0s\u001b[0m 4ms/step - loss: 40410853376.0000 - val_loss: 37318144000.0000\n",
            "Epoch 7/600\n",
            "\u001b[1m30/30\u001b[0m \u001b[32m━━━━━━━━━━━━━━━━━━━━\u001b[0m\u001b[37m\u001b[0m \u001b[1m0s\u001b[0m 6ms/step - loss: 39636238336.0000 - val_loss: 36980961280.0000\n",
            "Epoch 8/600\n",
            "\u001b[1m30/30\u001b[0m \u001b[32m━━━━━━━━━━━━━━━━━━━━\u001b[0m\u001b[37m\u001b[0m \u001b[1m0s\u001b[0m 4ms/step - loss: 37951889408.0000 - val_loss: 36521472000.0000\n",
            "Epoch 9/600\n",
            "\u001b[1m30/30\u001b[0m \u001b[32m━━━━━━━━━━━━━━━━━━━━\u001b[0m\u001b[37m\u001b[0m \u001b[1m0s\u001b[0m 8ms/step - loss: 36249477120.0000 - val_loss: 35915636736.0000\n",
            "Epoch 10/600\n",
            "\u001b[1m30/30\u001b[0m \u001b[32m━━━━━━━━━━━━━━━━━━━━\u001b[0m\u001b[37m\u001b[0m \u001b[1m0s\u001b[0m 7ms/step - loss: 37456961536.0000 - val_loss: 35160195072.0000\n",
            "Epoch 11/600\n",
            "\u001b[1m30/30\u001b[0m \u001b[32m━━━━━━━━━━━━━━━━━━━━\u001b[0m\u001b[37m\u001b[0m \u001b[1m0s\u001b[0m 7ms/step - loss: 37065437184.0000 - val_loss: 34245435392.0000\n",
            "Epoch 12/600\n",
            "\u001b[1m30/30\u001b[0m \u001b[32m━━━━━━━━━━━━━━━━━━━━\u001b[0m\u001b[37m\u001b[0m \u001b[1m0s\u001b[0m 7ms/step - loss: 35793379328.0000 - val_loss: 33166960640.0000\n",
            "Epoch 13/600\n",
            "\u001b[1m30/30\u001b[0m \u001b[32m━━━━━━━━━━━━━━━━━━━━\u001b[0m\u001b[37m\u001b[0m \u001b[1m0s\u001b[0m 7ms/step - loss: 33721364480.0000 - val_loss: 31920838656.0000\n",
            "Epoch 14/600\n",
            "\u001b[1m30/30\u001b[0m \u001b[32m━━━━━━━━━━━━━━━━━━━━\u001b[0m\u001b[37m\u001b[0m \u001b[1m0s\u001b[0m 6ms/step - loss: 33724377088.0000 - val_loss: 30520834048.0000\n",
            "Epoch 15/600\n",
            "\u001b[1m30/30\u001b[0m \u001b[32m━━━━━━━━━━━━━━━━━━━━\u001b[0m\u001b[37m\u001b[0m \u001b[1m0s\u001b[0m 7ms/step - loss: 31047608320.0000 - val_loss: 28960643072.0000\n",
            "Epoch 16/600\n",
            "\u001b[1m30/30\u001b[0m \u001b[32m━━━━━━━━━━━━━━━━━━━━\u001b[0m\u001b[37m\u001b[0m \u001b[1m0s\u001b[0m 8ms/step - loss: 29514258432.0000 - val_loss: 27257790464.0000\n",
            "Epoch 17/600\n",
            "\u001b[1m30/30\u001b[0m \u001b[32m━━━━━━━━━━━━━━━━━━━━\u001b[0m\u001b[37m\u001b[0m \u001b[1m0s\u001b[0m 7ms/step - loss: 27711592448.0000 - val_loss: 25425758208.0000\n",
            "Epoch 18/600\n",
            "\u001b[1m30/30\u001b[0m \u001b[32m━━━━━━━━━━━━━━━━━━━━\u001b[0m\u001b[37m\u001b[0m \u001b[1m0s\u001b[0m 7ms/step - loss: 27509090304.0000 - val_loss: 23488681984.0000\n",
            "Epoch 19/600\n",
            "\u001b[1m30/30\u001b[0m \u001b[32m━━━━━━━━━━━━━━━━━━━━\u001b[0m\u001b[37m\u001b[0m \u001b[1m0s\u001b[0m 7ms/step - loss: 23453634560.0000 - val_loss: 21505769472.0000\n",
            "Epoch 20/600\n",
            "\u001b[1m30/30\u001b[0m \u001b[32m━━━━━━━━━━━━━━━━━━━━\u001b[0m\u001b[37m\u001b[0m \u001b[1m0s\u001b[0m 6ms/step - loss: 21407850496.0000 - val_loss: 19497689088.0000\n",
            "Epoch 21/600\n",
            "\u001b[1m30/30\u001b[0m \u001b[32m━━━━━━━━━━━━━━━━━━━━\u001b[0m\u001b[37m\u001b[0m \u001b[1m0s\u001b[0m 5ms/step - loss: 19420362752.0000 - val_loss: 17495699456.0000\n",
            "Epoch 22/600\n",
            "\u001b[1m30/30\u001b[0m \u001b[32m━━━━━━━━━━━━━━━━━━━━\u001b[0m\u001b[37m\u001b[0m \u001b[1m0s\u001b[0m 5ms/step - loss: 18466408448.0000 - val_loss: 15495460864.0000\n",
            "Epoch 23/600\n",
            "\u001b[1m30/30\u001b[0m \u001b[32m━━━━━━━━━━━━━━━━━━━━\u001b[0m\u001b[37m\u001b[0m \u001b[1m0s\u001b[0m 4ms/step - loss: 15071182848.0000 - val_loss: 13603855360.0000\n",
            "Epoch 24/600\n",
            "\u001b[1m30/30\u001b[0m \u001b[32m━━━━━━━━━━━━━━━━━━━━\u001b[0m\u001b[37m\u001b[0m \u001b[1m0s\u001b[0m 4ms/step - loss: 13056133120.0000 - val_loss: 11767663616.0000\n",
            "Epoch 25/600\n",
            "\u001b[1m30/30\u001b[0m \u001b[32m━━━━━━━━━━━━━━━━━━━━\u001b[0m\u001b[37m\u001b[0m \u001b[1m0s\u001b[0m 7ms/step - loss: 12461746176.0000 - val_loss: 10070748160.0000\n",
            "Epoch 26/600\n",
            "\u001b[1m30/30\u001b[0m \u001b[32m━━━━━━━━━━━━━━━━━━━━\u001b[0m\u001b[37m\u001b[0m \u001b[1m0s\u001b[0m 4ms/step - loss: 9510096896.0000 - val_loss: 8554884096.0000\n",
            "Epoch 27/600\n",
            "\u001b[1m30/30\u001b[0m \u001b[32m━━━━━━━━━━━━━━━━━━━━\u001b[0m\u001b[37m\u001b[0m \u001b[1m0s\u001b[0m 5ms/step - loss: 8877278208.0000 - val_loss: 7174672384.0000\n",
            "Epoch 28/600\n",
            "\u001b[1m30/30\u001b[0m \u001b[32m━━━━━━━━━━━━━━━━━━━━\u001b[0m\u001b[37m\u001b[0m \u001b[1m0s\u001b[0m 4ms/step - loss: 7397689344.0000 - val_loss: 6001748480.0000\n",
            "Epoch 29/600\n",
            "\u001b[1m30/30\u001b[0m \u001b[32m━━━━━━━━━━━━━━━━━━━━\u001b[0m\u001b[37m\u001b[0m \u001b[1m0s\u001b[0m 6ms/step - loss: 6474126336.0000 - val_loss: 4954051072.0000\n",
            "Epoch 30/600\n",
            "\u001b[1m30/30\u001b[0m \u001b[32m━━━━━━━━━━━━━━━━━━━━\u001b[0m\u001b[37m\u001b[0m \u001b[1m0s\u001b[0m 4ms/step - loss: 4937971200.0000 - val_loss: 4165355776.0000\n",
            "Epoch 31/600\n",
            "\u001b[1m30/30\u001b[0m \u001b[32m━━━━━━━━━━━━━━━━━━━━\u001b[0m\u001b[37m\u001b[0m \u001b[1m0s\u001b[0m 4ms/step - loss: 4440032256.0000 - val_loss: 3486065664.0000\n",
            "Epoch 32/600\n",
            "\u001b[1m30/30\u001b[0m \u001b[32m━━━━━━━━━━━━━━━━━━━━\u001b[0m\u001b[37m\u001b[0m \u001b[1m0s\u001b[0m 4ms/step - loss: 4367370752.0000 - val_loss: 2966208768.0000\n",
            "Epoch 33/600\n",
            "\u001b[1m30/30\u001b[0m \u001b[32m━━━━━━━━━━━━━━━━━━━━\u001b[0m\u001b[37m\u001b[0m \u001b[1m0s\u001b[0m 5ms/step - loss: 3765709056.0000 - val_loss: 2574678272.0000\n",
            "Epoch 34/600\n",
            "\u001b[1m30/30\u001b[0m \u001b[32m━━━━━━━━━━━━━━━━━━━━\u001b[0m\u001b[37m\u001b[0m \u001b[1m0s\u001b[0m 5ms/step - loss: 3495177984.0000 - val_loss: 2268357120.0000\n",
            "Epoch 35/600\n",
            "\u001b[1m30/30\u001b[0m \u001b[32m━━━━━━━━━━━━━━━━━━━━\u001b[0m\u001b[37m\u001b[0m \u001b[1m0s\u001b[0m 5ms/step - loss: 2580442880.0000 - val_loss: 2056284928.0000\n",
            "Epoch 36/600\n",
            "\u001b[1m30/30\u001b[0m \u001b[32m━━━━━━━━━━━━━━━━━━━━\u001b[0m\u001b[37m\u001b[0m \u001b[1m0s\u001b[0m 4ms/step - loss: 2506799872.0000 - val_loss: 1896824832.0000\n",
            "Epoch 37/600\n",
            "\u001b[1m30/30\u001b[0m \u001b[32m━━━━━━━━━━━━━━━━━━━━\u001b[0m\u001b[37m\u001b[0m \u001b[1m0s\u001b[0m 5ms/step - loss: 2138007424.0000 - val_loss: 1771439104.0000\n",
            "Epoch 38/600\n",
            "\u001b[1m30/30\u001b[0m \u001b[32m━━━━━━━━━━━━━━━━━━━━\u001b[0m\u001b[37m\u001b[0m \u001b[1m0s\u001b[0m 5ms/step - loss: 1877008896.0000 - val_loss: 1685995904.0000\n",
            "Epoch 39/600\n",
            "\u001b[1m30/30\u001b[0m \u001b[32m━━━━━━━━━━━━━━━━━━━━\u001b[0m\u001b[37m\u001b[0m \u001b[1m0s\u001b[0m 5ms/step - loss: 1744532736.0000 - val_loss: 1629713664.0000\n",
            "Epoch 40/600\n",
            "\u001b[1m30/30\u001b[0m \u001b[32m━━━━━━━━━━━━━━━━━━━━\u001b[0m\u001b[37m\u001b[0m \u001b[1m0s\u001b[0m 4ms/step - loss: 1811702400.0000 - val_loss: 1570188928.0000\n",
            "Epoch 41/600\n",
            "\u001b[1m30/30\u001b[0m \u001b[32m━━━━━━━━━━━━━━━━━━━━\u001b[0m\u001b[37m\u001b[0m \u001b[1m0s\u001b[0m 4ms/step - loss: 1766267648.0000 - val_loss: 1531785344.0000\n",
            "Epoch 42/600\n",
            "\u001b[1m30/30\u001b[0m \u001b[32m━━━━━━━━━━━━━━━━━━━━\u001b[0m\u001b[37m\u001b[0m \u001b[1m0s\u001b[0m 5ms/step - loss: 1984573440.0000 - val_loss: 1502429440.0000\n",
            "Epoch 43/600\n",
            "\u001b[1m30/30\u001b[0m \u001b[32m━━━━━━━━━━━━━━━━━━━━\u001b[0m\u001b[37m\u001b[0m \u001b[1m0s\u001b[0m 5ms/step - loss: 1696352384.0000 - val_loss: 1474634752.0000\n",
            "Epoch 44/600\n",
            "\u001b[1m30/30\u001b[0m \u001b[32m━━━━━━━━━━━━━━━━━━━━\u001b[0m\u001b[37m\u001b[0m \u001b[1m0s\u001b[0m 5ms/step - loss: 1865729664.0000 - val_loss: 1449461376.0000\n",
            "Epoch 45/600\n",
            "\u001b[1m30/30\u001b[0m \u001b[32m━━━━━━━━━━━━━━━━━━━━\u001b[0m\u001b[37m\u001b[0m \u001b[1m0s\u001b[0m 5ms/step - loss: 2214113024.0000 - val_loss: 1425718912.0000\n",
            "Epoch 46/600\n",
            "\u001b[1m30/30\u001b[0m \u001b[32m━━━━━━━━━━━━━━━━━━━━\u001b[0m\u001b[37m\u001b[0m \u001b[1m0s\u001b[0m 6ms/step - loss: 1768313856.0000 - val_loss: 1405377920.0000\n",
            "Epoch 47/600\n",
            "\u001b[1m30/30\u001b[0m \u001b[32m━━━━━━━━━━━━━━━━━━━━\u001b[0m\u001b[37m\u001b[0m \u001b[1m0s\u001b[0m 5ms/step - loss: 1744278656.0000 - val_loss: 1388152320.0000\n",
            "Epoch 48/600\n",
            "\u001b[1m30/30\u001b[0m \u001b[32m━━━━━━━━━━━━━━━━━━━━\u001b[0m\u001b[37m\u001b[0m \u001b[1m0s\u001b[0m 5ms/step - loss: 1808639488.0000 - val_loss: 1368442880.0000\n",
            "Epoch 49/600\n",
            "\u001b[1m30/30\u001b[0m \u001b[32m━━━━━━━━━━━━━━━━━━━━\u001b[0m\u001b[37m\u001b[0m \u001b[1m0s\u001b[0m 4ms/step - loss: 1500394880.0000 - val_loss: 1352848384.0000\n",
            "Epoch 50/600\n",
            "\u001b[1m30/30\u001b[0m \u001b[32m━━━━━━━━━━━━━━━━━━━━\u001b[0m\u001b[37m\u001b[0m \u001b[1m0s\u001b[0m 5ms/step - loss: 1472477056.0000 - val_loss: 1333548544.0000\n",
            "Epoch 51/600\n",
            "\u001b[1m30/30\u001b[0m \u001b[32m━━━━━━━━━━━━━━━━━━━━\u001b[0m\u001b[37m\u001b[0m \u001b[1m0s\u001b[0m 5ms/step - loss: 1508266880.0000 - val_loss: 1317391488.0000\n",
            "Epoch 52/600\n",
            "\u001b[1m30/30\u001b[0m \u001b[32m━━━━━━━━━━━━━━━━━━━━\u001b[0m\u001b[37m\u001b[0m \u001b[1m0s\u001b[0m 6ms/step - loss: 1780443520.0000 - val_loss: 1302003840.0000\n",
            "Epoch 53/600\n",
            "\u001b[1m30/30\u001b[0m \u001b[32m━━━━━━━━━━━━━━━━━━━━\u001b[0m\u001b[37m\u001b[0m \u001b[1m0s\u001b[0m 5ms/step - loss: 2003905152.0000 - val_loss: 1285120640.0000\n",
            "Epoch 54/600\n",
            "\u001b[1m30/30\u001b[0m \u001b[32m━━━━━━━━━━━━━━━━━━━━\u001b[0m\u001b[37m\u001b[0m \u001b[1m0s\u001b[0m 5ms/step - loss: 1905774592.0000 - val_loss: 1270134912.0000\n",
            "Epoch 55/600\n",
            "\u001b[1m30/30\u001b[0m \u001b[32m━━━━━━━━━━━━━━━━━━━━\u001b[0m\u001b[37m\u001b[0m \u001b[1m0s\u001b[0m 6ms/step - loss: 1557460352.0000 - val_loss: 1257503744.0000\n",
            "Epoch 56/600\n",
            "\u001b[1m30/30\u001b[0m \u001b[32m━━━━━━━━━━━━━━━━━━━━\u001b[0m\u001b[37m\u001b[0m \u001b[1m0s\u001b[0m 5ms/step - loss: 2083434368.0000 - val_loss: 1244609536.0000\n",
            "Epoch 57/600\n",
            "\u001b[1m30/30\u001b[0m \u001b[32m━━━━━━━━━━━━━━━━━━━━\u001b[0m\u001b[37m\u001b[0m \u001b[1m0s\u001b[0m 5ms/step - loss: 1754101120.0000 - val_loss: 1229052928.0000\n",
            "Epoch 58/600\n",
            "\u001b[1m30/30\u001b[0m \u001b[32m━━━━━━━━━━━━━━━━━━━━\u001b[0m\u001b[37m\u001b[0m \u001b[1m0s\u001b[0m 5ms/step - loss: 1512849792.0000 - val_loss: 1217027584.0000\n",
            "Epoch 59/600\n",
            "\u001b[1m30/30\u001b[0m \u001b[32m━━━━━━━━━━━━━━━━━━━━\u001b[0m\u001b[37m\u001b[0m \u001b[1m1s\u001b[0m 18ms/step - loss: 2248391680.0000 - val_loss: 1204704640.0000\n",
            "Epoch 60/600\n",
            "\u001b[1m30/30\u001b[0m \u001b[32m━━━━━━━━━━━━━━━━━━━━\u001b[0m\u001b[37m\u001b[0m \u001b[1m0s\u001b[0m 7ms/step - loss: 1518524672.0000 - val_loss: 1193016320.0000\n",
            "Epoch 61/600\n",
            "\u001b[1m30/30\u001b[0m \u001b[32m━━━━━━━━━━━━━━━━━━━━\u001b[0m\u001b[37m\u001b[0m \u001b[1m1s\u001b[0m 27ms/step - loss: 1819903616.0000 - val_loss: 1183169280.0000\n",
            "Epoch 62/600\n",
            "\u001b[1m30/30\u001b[0m \u001b[32m━━━━━━━━━━━━━━━━━━━━\u001b[0m\u001b[37m\u001b[0m \u001b[1m1s\u001b[0m 6ms/step - loss: 1543688320.0000 - val_loss: 1172046848.0000\n",
            "Epoch 63/600\n",
            "\u001b[1m30/30\u001b[0m \u001b[32m━━━━━━━━━━━━━━━━━━━━\u001b[0m\u001b[37m\u001b[0m \u001b[1m1s\u001b[0m 31ms/step - loss: 1632045056.0000 - val_loss: 1156624640.0000\n",
            "Epoch 64/600\n",
            "\u001b[1m30/30\u001b[0m \u001b[32m━━━━━━━━━━━━━━━━━━━━\u001b[0m\u001b[37m\u001b[0m \u001b[1m1s\u001b[0m 8ms/step - loss: 1511693568.0000 - val_loss: 1145601536.0000\n",
            "Epoch 65/600\n",
            "\u001b[1m30/30\u001b[0m \u001b[32m━━━━━━━━━━━━━━━━━━━━\u001b[0m\u001b[37m\u001b[0m \u001b[1m0s\u001b[0m 10ms/step - loss: 1455685760.0000 - val_loss: 1136176640.0000\n",
            "Epoch 66/600\n",
            "\u001b[1m30/30\u001b[0m \u001b[32m━━━━━━━━━━━━━━━━━━━━\u001b[0m\u001b[37m\u001b[0m \u001b[1m0s\u001b[0m 5ms/step - loss: 1299692416.0000 - val_loss: 1123633792.0000\n",
            "Epoch 67/600\n",
            "\u001b[1m30/30\u001b[0m \u001b[32m━━━━━━━━━━━━━━━━━━━━\u001b[0m\u001b[37m\u001b[0m \u001b[1m0s\u001b[0m 4ms/step - loss: 1432890752.0000 - val_loss: 1115265024.0000\n",
            "Epoch 68/600\n",
            "\u001b[1m30/30\u001b[0m \u001b[32m━━━━━━━━━━━━━━━━━━━━\u001b[0m\u001b[37m\u001b[0m \u001b[1m0s\u001b[0m 4ms/step - loss: 2068754816.0000 - val_loss: 1102124800.0000\n",
            "Epoch 69/600\n",
            "\u001b[1m30/30\u001b[0m \u001b[32m━━━━━━━━━━━━━━━━━━━━\u001b[0m\u001b[37m\u001b[0m \u001b[1m0s\u001b[0m 4ms/step - loss: 1543151872.0000 - val_loss: 1092494336.0000\n",
            "Epoch 70/600\n",
            "\u001b[1m30/30\u001b[0m \u001b[32m━━━━━━━━━━━━━━━━━━━━\u001b[0m\u001b[37m\u001b[0m \u001b[1m0s\u001b[0m 4ms/step - loss: 1554983296.0000 - val_loss: 1082889216.0000\n",
            "Epoch 71/600\n",
            "\u001b[1m30/30\u001b[0m \u001b[32m━━━━━━━━━━━━━━━━━━━━\u001b[0m\u001b[37m\u001b[0m \u001b[1m0s\u001b[0m 5ms/step - loss: 1251368704.0000 - val_loss: 1074534016.0000\n",
            "Epoch 72/600\n",
            "\u001b[1m30/30\u001b[0m \u001b[32m━━━━━━━━━━━━━━━━━━━━\u001b[0m\u001b[37m\u001b[0m \u001b[1m0s\u001b[0m 4ms/step - loss: 1362788608.0000 - val_loss: 1065127360.0000\n",
            "Epoch 73/600\n",
            "\u001b[1m30/30\u001b[0m \u001b[32m━━━━━━━━━━━━━━━━━━━━\u001b[0m\u001b[37m\u001b[0m \u001b[1m0s\u001b[0m 5ms/step - loss: 1791752704.0000 - val_loss: 1057226432.0000\n",
            "Epoch 74/600\n",
            "\u001b[1m30/30\u001b[0m \u001b[32m━━━━━━━━━━━━━━━━━━━━\u001b[0m\u001b[37m\u001b[0m \u001b[1m0s\u001b[0m 5ms/step - loss: 1347091456.0000 - val_loss: 1046213056.0000\n",
            "Epoch 75/600\n",
            "\u001b[1m30/30\u001b[0m \u001b[32m━━━━━━━━━━━━━━━━━━━━\u001b[0m\u001b[37m\u001b[0m \u001b[1m0s\u001b[0m 4ms/step - loss: 1915550976.0000 - val_loss: 1039038912.0000\n",
            "Epoch 76/600\n",
            "\u001b[1m30/30\u001b[0m \u001b[32m━━━━━━━━━━━━━━━━━━━━\u001b[0m\u001b[37m\u001b[0m \u001b[1m0s\u001b[0m 5ms/step - loss: 1881170304.0000 - val_loss: 1030242944.0000\n",
            "Epoch 77/600\n",
            "\u001b[1m30/30\u001b[0m \u001b[32m━━━━━━━━━━━━━━━━━━━━\u001b[0m\u001b[37m\u001b[0m \u001b[1m0s\u001b[0m 4ms/step - loss: 1992984448.0000 - val_loss: 1022527744.0000\n",
            "Epoch 78/600\n",
            "\u001b[1m30/30\u001b[0m \u001b[32m━━━━━━━━━━━━━━━━━━━━\u001b[0m\u001b[37m\u001b[0m \u001b[1m0s\u001b[0m 4ms/step - loss: 1412219776.0000 - val_loss: 1013082496.0000\n",
            "Epoch 79/600\n",
            "\u001b[1m30/30\u001b[0m \u001b[32m━━━━━━━━━━━━━━━━━━━━\u001b[0m\u001b[37m\u001b[0m \u001b[1m0s\u001b[0m 5ms/step - loss: 1432392448.0000 - val_loss: 1002983936.0000\n",
            "Epoch 80/600\n",
            "\u001b[1m30/30\u001b[0m \u001b[32m━━━━━━━━━━━━━━━━━━━━\u001b[0m\u001b[37m\u001b[0m \u001b[1m0s\u001b[0m 4ms/step - loss: 990919104.0000 - val_loss: 995626304.0000\n",
            "Epoch 81/600\n",
            "\u001b[1m30/30\u001b[0m \u001b[32m━━━━━━━━━━━━━━━━━━━━\u001b[0m\u001b[37m\u001b[0m \u001b[1m0s\u001b[0m 5ms/step - loss: 1455960576.0000 - val_loss: 989029312.0000\n",
            "Epoch 82/600\n",
            "\u001b[1m30/30\u001b[0m \u001b[32m━━━━━━━━━━━━━━━━━━━━\u001b[0m\u001b[37m\u001b[0m \u001b[1m0s\u001b[0m 4ms/step - loss: 1387011072.0000 - val_loss: 981415680.0000\n",
            "Epoch 83/600\n",
            "\u001b[1m30/30\u001b[0m \u001b[32m━━━━━━━━━━━━━━━━━━━━\u001b[0m\u001b[37m\u001b[0m \u001b[1m0s\u001b[0m 4ms/step - loss: 1429512448.0000 - val_loss: 974564224.0000\n",
            "Epoch 84/600\n",
            "\u001b[1m30/30\u001b[0m \u001b[32m━━━━━━━━━━━━━━━━━━━━\u001b[0m\u001b[37m\u001b[0m \u001b[1m0s\u001b[0m 4ms/step - loss: 1152001792.0000 - val_loss: 961759424.0000\n",
            "Epoch 85/600\n",
            "\u001b[1m30/30\u001b[0m \u001b[32m━━━━━━━━━━━━━━━━━━━━\u001b[0m\u001b[37m\u001b[0m \u001b[1m0s\u001b[0m 5ms/step - loss: 2108198784.0000 - val_loss: 953484864.0000\n",
            "Epoch 86/600\n",
            "\u001b[1m30/30\u001b[0m \u001b[32m━━━━━━━━━━━━━━━━━━━━\u001b[0m\u001b[37m\u001b[0m \u001b[1m0s\u001b[0m 4ms/step - loss: 1689806464.0000 - val_loss: 946663040.0000\n",
            "Epoch 87/600\n",
            "\u001b[1m30/30\u001b[0m \u001b[32m━━━━━━━━━━━━━━━━━━━━\u001b[0m\u001b[37m\u001b[0m \u001b[1m0s\u001b[0m 6ms/step - loss: 1119608320.0000 - val_loss: 941801024.0000\n",
            "Epoch 88/600\n",
            "\u001b[1m30/30\u001b[0m \u001b[32m━━━━━━━━━━━━━━━━━━━━\u001b[0m\u001b[37m\u001b[0m \u001b[1m0s\u001b[0m 5ms/step - loss: 1196585088.0000 - val_loss: 933757376.0000\n",
            "Epoch 89/600\n",
            "\u001b[1m30/30\u001b[0m \u001b[32m━━━━━━━━━━━━━━━━━━━━\u001b[0m\u001b[37m\u001b[0m \u001b[1m0s\u001b[0m 4ms/step - loss: 1457837440.0000 - val_loss: 927020864.0000\n",
            "Epoch 90/600\n",
            "\u001b[1m30/30\u001b[0m \u001b[32m━━━━━━━━━━━━━━━━━━━━\u001b[0m\u001b[37m\u001b[0m \u001b[1m0s\u001b[0m 5ms/step - loss: 1153795200.0000 - val_loss: 916685056.0000\n",
            "Epoch 91/600\n",
            "\u001b[1m30/30\u001b[0m \u001b[32m━━━━━━━━━━━━━━━━━━━━\u001b[0m\u001b[37m\u001b[0m \u001b[1m0s\u001b[0m 5ms/step - loss: 1994113024.0000 - val_loss: 913593856.0000\n",
            "Epoch 92/600\n",
            "\u001b[1m30/30\u001b[0m \u001b[32m━━━━━━━━━━━━━━━━━━━━\u001b[0m\u001b[37m\u001b[0m \u001b[1m0s\u001b[0m 5ms/step - loss: 1359006848.0000 - val_loss: 907123008.0000\n",
            "Epoch 93/600\n",
            "\u001b[1m30/30\u001b[0m \u001b[32m━━━━━━━━━━━━━━━━━━━━\u001b[0m\u001b[37m\u001b[0m \u001b[1m0s\u001b[0m 5ms/step - loss: 1571470464.0000 - val_loss: 900649024.0000\n",
            "Epoch 94/600\n",
            "\u001b[1m30/30\u001b[0m \u001b[32m━━━━━━━━━━━━━━━━━━━━\u001b[0m\u001b[37m\u001b[0m \u001b[1m0s\u001b[0m 5ms/step - loss: 1449031040.0000 - val_loss: 896107968.0000\n",
            "Epoch 95/600\n",
            "\u001b[1m30/30\u001b[0m \u001b[32m━━━━━━━━━━━━━━━━━━━━\u001b[0m\u001b[37m\u001b[0m \u001b[1m0s\u001b[0m 4ms/step - loss: 1343600000.0000 - val_loss: 889885760.0000\n",
            "Epoch 96/600\n",
            "\u001b[1m30/30\u001b[0m \u001b[32m━━━━━━━━━━━━━━━━━━━━\u001b[0m\u001b[37m\u001b[0m \u001b[1m0s\u001b[0m 5ms/step - loss: 2209065216.0000 - val_loss: 885165824.0000\n",
            "Epoch 97/600\n",
            "\u001b[1m30/30\u001b[0m \u001b[32m━━━━━━━━━━━━━━━━━━━━\u001b[0m\u001b[37m\u001b[0m \u001b[1m0s\u001b[0m 5ms/step - loss: 1544343424.0000 - val_loss: 877828992.0000\n",
            "Epoch 98/600\n",
            "\u001b[1m30/30\u001b[0m \u001b[32m━━━━━━━━━━━━━━━━━━━━\u001b[0m\u001b[37m\u001b[0m \u001b[1m0s\u001b[0m 5ms/step - loss: 1168810624.0000 - val_loss: 873002112.0000\n",
            "Epoch 99/600\n",
            "\u001b[1m30/30\u001b[0m \u001b[32m━━━━━━━━━━━━━━━━━━━━\u001b[0m\u001b[37m\u001b[0m \u001b[1m0s\u001b[0m 5ms/step - loss: 1736949632.0000 - val_loss: 869084096.0000\n",
            "Epoch 100/600\n",
            "\u001b[1m30/30\u001b[0m \u001b[32m━━━━━━━━━━━━━━━━━━━━\u001b[0m\u001b[37m\u001b[0m \u001b[1m0s\u001b[0m 4ms/step - loss: 1366834304.0000 - val_loss: 862132160.0000\n",
            "Epoch 101/600\n",
            "\u001b[1m30/30\u001b[0m \u001b[32m━━━━━━━━━━━━━━━━━━━━\u001b[0m\u001b[37m\u001b[0m \u001b[1m0s\u001b[0m 5ms/step - loss: 1390723968.0000 - val_loss: 857218496.0000\n",
            "Epoch 102/600\n",
            "\u001b[1m30/30\u001b[0m \u001b[32m━━━━━━━━━━━━━━━━━━━━\u001b[0m\u001b[37m\u001b[0m \u001b[1m0s\u001b[0m 5ms/step - loss: 1925883136.0000 - val_loss: 850991744.0000\n",
            "Epoch 103/600\n",
            "\u001b[1m30/30\u001b[0m \u001b[32m━━━━━━━━━━━━━━━━━━━━\u001b[0m\u001b[37m\u001b[0m \u001b[1m0s\u001b[0m 4ms/step - loss: 1331465600.0000 - val_loss: 846400192.0000\n",
            "Epoch 104/600\n",
            "\u001b[1m30/30\u001b[0m \u001b[32m━━━━━━━━━━━━━━━━━━━━\u001b[0m\u001b[37m\u001b[0m \u001b[1m0s\u001b[0m 4ms/step - loss: 1211681024.0000 - val_loss: 842064448.0000\n",
            "Epoch 105/600\n",
            "\u001b[1m30/30\u001b[0m \u001b[32m━━━━━━━━━━━━━━━━━━━━\u001b[0m\u001b[37m\u001b[0m \u001b[1m0s\u001b[0m 5ms/step - loss: 2158087936.0000 - val_loss: 837281344.0000\n",
            "Epoch 106/600\n",
            "\u001b[1m30/30\u001b[0m \u001b[32m━━━━━━━━━━━━━━━━━━━━\u001b[0m\u001b[37m\u001b[0m \u001b[1m0s\u001b[0m 5ms/step - loss: 1188405376.0000 - val_loss: 832483840.0000\n",
            "Epoch 107/600\n",
            "\u001b[1m30/30\u001b[0m \u001b[32m━━━━━━━━━━━━━━━━━━━━\u001b[0m\u001b[37m\u001b[0m \u001b[1m0s\u001b[0m 4ms/step - loss: 1289702144.0000 - val_loss: 825784384.0000\n",
            "Epoch 108/600\n",
            "\u001b[1m30/30\u001b[0m \u001b[32m━━━━━━━━━━━━━━━━━━━━\u001b[0m\u001b[37m\u001b[0m \u001b[1m0s\u001b[0m 5ms/step - loss: 1039715456.0000 - val_loss: 825618880.0000\n",
            "Epoch 109/600\n",
            "\u001b[1m30/30\u001b[0m \u001b[32m━━━━━━━━━━━━━━━━━━━━\u001b[0m\u001b[37m\u001b[0m \u001b[1m0s\u001b[0m 9ms/step - loss: 1375736064.0000 - val_loss: 819219520.0000\n",
            "Epoch 110/600\n",
            "\u001b[1m30/30\u001b[0m \u001b[32m━━━━━━━━━━━━━━━━━━━━\u001b[0m\u001b[37m\u001b[0m \u001b[1m0s\u001b[0m 11ms/step - loss: 1195011072.0000 - val_loss: 813455808.0000\n",
            "Epoch 111/600\n",
            "\u001b[1m30/30\u001b[0m \u001b[32m━━━━━━━━━━━━━━━━━━━━\u001b[0m\u001b[37m\u001b[0m \u001b[1m1s\u001b[0m 8ms/step - loss: 1986877312.0000 - val_loss: 808934976.0000\n",
            "Epoch 112/600\n",
            "\u001b[1m30/30\u001b[0m \u001b[32m━━━━━━━━━━━━━━━━━━━━\u001b[0m\u001b[37m\u001b[0m \u001b[1m0s\u001b[0m 8ms/step - loss: 1269390464.0000 - val_loss: 803675648.0000\n",
            "Epoch 113/600\n",
            "\u001b[1m30/30\u001b[0m \u001b[32m━━━━━━━━━━━━━━━━━━━━\u001b[0m\u001b[37m\u001b[0m \u001b[1m0s\u001b[0m 7ms/step - loss: 1026123072.0000 - val_loss: 800078976.0000\n",
            "Epoch 114/600\n",
            "\u001b[1m30/30\u001b[0m \u001b[32m━━━━━━━━━━━━━━━━━━━━\u001b[0m\u001b[37m\u001b[0m \u001b[1m0s\u001b[0m 7ms/step - loss: 1711179648.0000 - val_loss: 796484352.0000\n",
            "Epoch 115/600\n",
            "\u001b[1m30/30\u001b[0m \u001b[32m━━━━━━━━━━━━━━━━━━━━\u001b[0m\u001b[37m\u001b[0m \u001b[1m0s\u001b[0m 9ms/step - loss: 1025909312.0000 - val_loss: 791425344.0000\n",
            "Epoch 116/600\n",
            "\u001b[1m30/30\u001b[0m \u001b[32m━━━━━━━━━━━━━━━━━━━━\u001b[0m\u001b[37m\u001b[0m \u001b[1m0s\u001b[0m 8ms/step - loss: 1304703488.0000 - val_loss: 789198016.0000\n",
            "Epoch 117/600\n",
            "\u001b[1m30/30\u001b[0m \u001b[32m━━━━━━━━━━━━━━━━━━━━\u001b[0m\u001b[37m\u001b[0m \u001b[1m0s\u001b[0m 8ms/step - loss: 1347514880.0000 - val_loss: 783160512.0000\n",
            "Epoch 118/600\n",
            "\u001b[1m30/30\u001b[0m \u001b[32m━━━━━━━━━━━━━━━━━━━━\u001b[0m\u001b[37m\u001b[0m \u001b[1m0s\u001b[0m 8ms/step - loss: 1176280192.0000 - val_loss: 777789120.0000\n",
            "Epoch 119/600\n",
            "\u001b[1m30/30\u001b[0m \u001b[32m━━━━━━━━━━━━━━━━━━━━\u001b[0m\u001b[37m\u001b[0m \u001b[1m0s\u001b[0m 6ms/step - loss: 1087710720.0000 - val_loss: 774214016.0000\n",
            "Epoch 120/600\n",
            "\u001b[1m30/30\u001b[0m \u001b[32m━━━━━━━━━━━━━━━━━━━━\u001b[0m\u001b[37m\u001b[0m \u001b[1m0s\u001b[0m 5ms/step - loss: 1211725184.0000 - val_loss: 773483520.0000\n",
            "Epoch 121/600\n",
            "\u001b[1m30/30\u001b[0m \u001b[32m━━━━━━━━━━━━━━━━━━━━\u001b[0m\u001b[37m\u001b[0m \u001b[1m0s\u001b[0m 5ms/step - loss: 969289088.0000 - val_loss: 766758272.0000\n",
            "Epoch 122/600\n",
            "\u001b[1m30/30\u001b[0m \u001b[32m━━━━━━━━━━━━━━━━━━━━\u001b[0m\u001b[37m\u001b[0m \u001b[1m0s\u001b[0m 7ms/step - loss: 1250445056.0000 - val_loss: 765360576.0000\n",
            "Epoch 123/600\n",
            "\u001b[1m30/30\u001b[0m \u001b[32m━━━━━━━━━━━━━━━━━━━━\u001b[0m\u001b[37m\u001b[0m \u001b[1m0s\u001b[0m 5ms/step - loss: 1253095936.0000 - val_loss: 760223744.0000\n",
            "Epoch 124/600\n",
            "\u001b[1m30/30\u001b[0m \u001b[32m━━━━━━━━━━━━━━━━━━━━\u001b[0m\u001b[37m\u001b[0m \u001b[1m0s\u001b[0m 4ms/step - loss: 1249048192.0000 - val_loss: 757689024.0000\n",
            "Epoch 125/600\n",
            "\u001b[1m30/30\u001b[0m \u001b[32m━━━━━━━━━━━━━━━━━━━━\u001b[0m\u001b[37m\u001b[0m \u001b[1m0s\u001b[0m 5ms/step - loss: 1268450816.0000 - val_loss: 753483712.0000\n",
            "Epoch 126/600\n",
            "\u001b[1m30/30\u001b[0m \u001b[32m━━━━━━━━━━━━━━━━━━━━\u001b[0m\u001b[37m\u001b[0m \u001b[1m0s\u001b[0m 5ms/step - loss: 1412206336.0000 - val_loss: 751348224.0000\n",
            "Epoch 127/600\n",
            "\u001b[1m30/30\u001b[0m \u001b[32m━━━━━━━━━━━━━━━━━━━━\u001b[0m\u001b[37m\u001b[0m \u001b[1m0s\u001b[0m 5ms/step - loss: 943527232.0000 - val_loss: 747179520.0000\n",
            "Epoch 128/600\n",
            "\u001b[1m30/30\u001b[0m \u001b[32m━━━━━━━━━━━━━━━━━━━━\u001b[0m\u001b[37m\u001b[0m \u001b[1m0s\u001b[0m 5ms/step - loss: 1560157824.0000 - val_loss: 744403648.0000\n",
            "Epoch 129/600\n",
            "\u001b[1m30/30\u001b[0m \u001b[32m━━━━━━━━━━━━━━━━━━━━\u001b[0m\u001b[37m\u001b[0m \u001b[1m0s\u001b[0m 5ms/step - loss: 1101874176.0000 - val_loss: 738699136.0000\n",
            "Epoch 130/600\n",
            "\u001b[1m30/30\u001b[0m \u001b[32m━━━━━━━━━━━━━━━━━━━━\u001b[0m\u001b[37m\u001b[0m \u001b[1m0s\u001b[0m 5ms/step - loss: 919744704.0000 - val_loss: 736975552.0000\n",
            "Epoch 131/600\n",
            "\u001b[1m30/30\u001b[0m \u001b[32m━━━━━━━━━━━━━━━━━━━━\u001b[0m\u001b[37m\u001b[0m \u001b[1m0s\u001b[0m 6ms/step - loss: 1145656832.0000 - val_loss: 731441920.0000\n",
            "Epoch 132/600\n",
            "\u001b[1m30/30\u001b[0m \u001b[32m━━━━━━━━━━━━━━━━━━━━\u001b[0m\u001b[37m\u001b[0m \u001b[1m0s\u001b[0m 6ms/step - loss: 947451392.0000 - val_loss: 727505664.0000\n",
            "Epoch 133/600\n",
            "\u001b[1m30/30\u001b[0m \u001b[32m━━━━━━━━━━━━━━━━━━━━\u001b[0m\u001b[37m\u001b[0m \u001b[1m0s\u001b[0m 5ms/step - loss: 1070764480.0000 - val_loss: 727618752.0000\n",
            "Epoch 134/600\n",
            "\u001b[1m30/30\u001b[0m \u001b[32m━━━━━━━━━━━━━━━━━━━━\u001b[0m\u001b[37m\u001b[0m \u001b[1m0s\u001b[0m 5ms/step - loss: 1430912768.0000 - val_loss: 725891328.0000\n",
            "Epoch 135/600\n",
            "\u001b[1m30/30\u001b[0m \u001b[32m━━━━━━━━━━━━━━━━━━━━\u001b[0m\u001b[37m\u001b[0m \u001b[1m0s\u001b[0m 6ms/step - loss: 1037778176.0000 - val_loss: 718994560.0000\n",
            "Epoch 136/600\n",
            "\u001b[1m30/30\u001b[0m \u001b[32m━━━━━━━━━━━━━━━━━━━━\u001b[0m\u001b[37m\u001b[0m \u001b[1m0s\u001b[0m 5ms/step - loss: 1364210944.0000 - val_loss: 713089664.0000\n",
            "Epoch 137/600\n",
            "\u001b[1m30/30\u001b[0m \u001b[32m━━━━━━━━━━━━━━━━━━━━\u001b[0m\u001b[37m\u001b[0m \u001b[1m0s\u001b[0m 5ms/step - loss: 1910903296.0000 - val_loss: 711359936.0000\n",
            "Epoch 138/600\n",
            "\u001b[1m30/30\u001b[0m \u001b[32m━━━━━━━━━━━━━━━━━━━━\u001b[0m\u001b[37m\u001b[0m \u001b[1m0s\u001b[0m 4ms/step - loss: 1268010624.0000 - val_loss: 707622272.0000\n",
            "Epoch 139/600\n",
            "\u001b[1m30/30\u001b[0m \u001b[32m━━━━━━━━━━━━━━━━━━━━\u001b[0m\u001b[37m\u001b[0m \u001b[1m0s\u001b[0m 5ms/step - loss: 1032428800.0000 - val_loss: 704455872.0000\n",
            "Epoch 140/600\n",
            "\u001b[1m30/30\u001b[0m \u001b[32m━━━━━━━━━━━━━━━━━━━━\u001b[0m\u001b[37m\u001b[0m \u001b[1m0s\u001b[0m 6ms/step - loss: 906266112.0000 - val_loss: 702438848.0000\n",
            "Epoch 141/600\n",
            "\u001b[1m30/30\u001b[0m \u001b[32m━━━━━━━━━━━━━━━━━━━━\u001b[0m\u001b[37m\u001b[0m \u001b[1m0s\u001b[0m 5ms/step - loss: 1220848512.0000 - val_loss: 701495680.0000\n",
            "Epoch 142/600\n",
            "\u001b[1m30/30\u001b[0m \u001b[32m━━━━━━━━━━━━━━━━━━━━\u001b[0m\u001b[37m\u001b[0m \u001b[1m0s\u001b[0m 5ms/step - loss: 922334400.0000 - val_loss: 699269056.0000\n",
            "Epoch 143/600\n",
            "\u001b[1m30/30\u001b[0m \u001b[32m━━━━━━━━━━━━━━━━━━━━\u001b[0m\u001b[37m\u001b[0m \u001b[1m0s\u001b[0m 5ms/step - loss: 1207630592.0000 - val_loss: 695371264.0000\n",
            "Epoch 144/600\n",
            "\u001b[1m30/30\u001b[0m \u001b[32m━━━━━━━━━━━━━━━━━━━━\u001b[0m\u001b[37m\u001b[0m \u001b[1m0s\u001b[0m 5ms/step - loss: 1324314880.0000 - val_loss: 692954816.0000\n",
            "Epoch 145/600\n",
            "\u001b[1m30/30\u001b[0m \u001b[32m━━━━━━━━━━━━━━━━━━━━\u001b[0m\u001b[37m\u001b[0m \u001b[1m0s\u001b[0m 5ms/step - loss: 1446285824.0000 - val_loss: 690618432.0000\n",
            "Epoch 146/600\n",
            "\u001b[1m30/30\u001b[0m \u001b[32m━━━━━━━━━━━━━━━━━━━━\u001b[0m\u001b[37m\u001b[0m \u001b[1m0s\u001b[0m 5ms/step - loss: 1105341696.0000 - val_loss: 688124224.0000\n",
            "Epoch 147/600\n",
            "\u001b[1m30/30\u001b[0m \u001b[32m━━━━━━━━━━━━━━━━━━━━\u001b[0m\u001b[37m\u001b[0m \u001b[1m0s\u001b[0m 6ms/step - loss: 1050831232.0000 - val_loss: 687162048.0000\n",
            "Epoch 148/600\n",
            "\u001b[1m30/30\u001b[0m \u001b[32m━━━━━━━━━━━━━━━━━━━━\u001b[0m\u001b[37m\u001b[0m \u001b[1m0s\u001b[0m 5ms/step - loss: 1005358016.0000 - val_loss: 683515072.0000\n",
            "Epoch 149/600\n",
            "\u001b[1m30/30\u001b[0m \u001b[32m━━━━━━━━━━━━━━━━━━━━\u001b[0m\u001b[37m\u001b[0m \u001b[1m0s\u001b[0m 5ms/step - loss: 1565834624.0000 - val_loss: 683306944.0000\n",
            "Epoch 150/600\n",
            "\u001b[1m30/30\u001b[0m \u001b[32m━━━━━━━━━━━━━━━━━━━━\u001b[0m\u001b[37m\u001b[0m \u001b[1m0s\u001b[0m 5ms/step - loss: 1067743552.0000 - val_loss: 679538624.0000\n",
            "Epoch 151/600\n",
            "\u001b[1m30/30\u001b[0m \u001b[32m━━━━━━━━━━━━━━━━━━━━\u001b[0m\u001b[37m\u001b[0m \u001b[1m0s\u001b[0m 5ms/step - loss: 1439951232.0000 - val_loss: 676530048.0000\n",
            "Epoch 152/600\n",
            "\u001b[1m30/30\u001b[0m \u001b[32m━━━━━━━━━━━━━━━━━━━━\u001b[0m\u001b[37m\u001b[0m \u001b[1m0s\u001b[0m 5ms/step - loss: 920962112.0000 - val_loss: 675490560.0000\n",
            "Epoch 153/600\n",
            "\u001b[1m30/30\u001b[0m \u001b[32m━━━━━━━━━━━━━━━━━━━━\u001b[0m\u001b[37m\u001b[0m \u001b[1m0s\u001b[0m 5ms/step - loss: 1237971328.0000 - val_loss: 673464064.0000\n",
            "Epoch 154/600\n",
            "\u001b[1m30/30\u001b[0m \u001b[32m━━━━━━━━━━━━━━━━━━━━\u001b[0m\u001b[37m\u001b[0m \u001b[1m0s\u001b[0m 5ms/step - loss: 1140476544.0000 - val_loss: 668723264.0000\n",
            "Epoch 155/600\n",
            "\u001b[1m30/30\u001b[0m \u001b[32m━━━━━━━━━━━━━━━━━━━━\u001b[0m\u001b[37m\u001b[0m \u001b[1m0s\u001b[0m 6ms/step - loss: 1266538368.0000 - val_loss: 669288768.0000\n",
            "Epoch 156/600\n",
            "\u001b[1m30/30\u001b[0m \u001b[32m━━━━━━━━━━━━━━━━━━━━\u001b[0m\u001b[37m\u001b[0m \u001b[1m0s\u001b[0m 5ms/step - loss: 1377395712.0000 - val_loss: 664061120.0000\n",
            "Epoch 157/600\n",
            "\u001b[1m30/30\u001b[0m \u001b[32m━━━━━━━━━━━━━━━━━━━━\u001b[0m\u001b[37m\u001b[0m \u001b[1m0s\u001b[0m 6ms/step - loss: 1079033216.0000 - val_loss: 663072512.0000\n",
            "Epoch 158/600\n",
            "\u001b[1m30/30\u001b[0m \u001b[32m━━━━━━━━━━━━━━━━━━━━\u001b[0m\u001b[37m\u001b[0m \u001b[1m0s\u001b[0m 7ms/step - loss: 919482240.0000 - val_loss: 659322752.0000\n",
            "Epoch 159/600\n",
            "\u001b[1m30/30\u001b[0m \u001b[32m━━━━━━━━━━━━━━━━━━━━\u001b[0m\u001b[37m\u001b[0m \u001b[1m0s\u001b[0m 8ms/step - loss: 1110615936.0000 - val_loss: 658694720.0000\n",
            "Epoch 160/600\n",
            "\u001b[1m30/30\u001b[0m \u001b[32m━━━━━━━━━━━━━━━━━━━━\u001b[0m\u001b[37m\u001b[0m \u001b[1m0s\u001b[0m 8ms/step - loss: 1386421632.0000 - val_loss: 656314432.0000\n",
            "Epoch 161/600\n",
            "\u001b[1m30/30\u001b[0m \u001b[32m━━━━━━━━━━━━━━━━━━━━\u001b[0m\u001b[37m\u001b[0m \u001b[1m0s\u001b[0m 7ms/step - loss: 1075660416.0000 - val_loss: 654570752.0000\n",
            "Epoch 162/600\n",
            "\u001b[1m30/30\u001b[0m \u001b[32m━━━━━━━━━━━━━━━━━━━━\u001b[0m\u001b[37m\u001b[0m \u001b[1m0s\u001b[0m 8ms/step - loss: 1560829312.0000 - val_loss: 653051520.0000\n",
            "Epoch 163/600\n",
            "\u001b[1m30/30\u001b[0m \u001b[32m━━━━━━━━━━━━━━━━━━━━\u001b[0m\u001b[37m\u001b[0m \u001b[1m0s\u001b[0m 7ms/step - loss: 1356618112.0000 - val_loss: 651770944.0000\n",
            "Epoch 164/600\n",
            "\u001b[1m30/30\u001b[0m \u001b[32m━━━━━━━━━━━━━━━━━━━━\u001b[0m\u001b[37m\u001b[0m \u001b[1m0s\u001b[0m 8ms/step - loss: 924672704.0000 - val_loss: 649211840.0000\n",
            "Epoch 165/600\n",
            "\u001b[1m30/30\u001b[0m \u001b[32m━━━━━━━━━━━━━━━━━━━━\u001b[0m\u001b[37m\u001b[0m \u001b[1m0s\u001b[0m 7ms/step - loss: 710314496.0000 - val_loss: 646324544.0000\n",
            "Epoch 166/600\n",
            "\u001b[1m30/30\u001b[0m \u001b[32m━━━━━━━━━━━━━━━━━━━━\u001b[0m\u001b[37m\u001b[0m \u001b[1m0s\u001b[0m 8ms/step - loss: 1095226624.0000 - val_loss: 645311360.0000\n",
            "Epoch 167/600\n",
            "\u001b[1m30/30\u001b[0m \u001b[32m━━━━━━━━━━━━━━━━━━━━\u001b[0m\u001b[37m\u001b[0m \u001b[1m0s\u001b[0m 8ms/step - loss: 973391744.0000 - val_loss: 643024320.0000\n",
            "Epoch 168/600\n",
            "\u001b[1m30/30\u001b[0m \u001b[32m━━━━━━━━━━━━━━━━━━━━\u001b[0m\u001b[37m\u001b[0m \u001b[1m0s\u001b[0m 7ms/step - loss: 1089824896.0000 - val_loss: 644576512.0000\n",
            "Epoch 169/600\n",
            "\u001b[1m30/30\u001b[0m \u001b[32m━━━━━━━━━━━━━━━━━━━━\u001b[0m\u001b[37m\u001b[0m \u001b[1m0s\u001b[0m 8ms/step - loss: 1014981888.0000 - val_loss: 639078912.0000\n",
            "Epoch 170/600\n",
            "\u001b[1m30/30\u001b[0m \u001b[32m━━━━━━━━━━━━━━━━━━━━\u001b[0m\u001b[37m\u001b[0m \u001b[1m0s\u001b[0m 7ms/step - loss: 1276613888.0000 - val_loss: 637920640.0000\n",
            "Epoch 171/600\n",
            "\u001b[1m30/30\u001b[0m \u001b[32m━━━━━━━━━━━━━━━━━━━━\u001b[0m\u001b[37m\u001b[0m \u001b[1m0s\u001b[0m 5ms/step - loss: 815475904.0000 - val_loss: 635491008.0000\n",
            "Epoch 172/600\n",
            "\u001b[1m30/30\u001b[0m \u001b[32m━━━━━━━━━━━━━━━━━━━━\u001b[0m\u001b[37m\u001b[0m \u001b[1m0s\u001b[0m 5ms/step - loss: 1075130496.0000 - val_loss: 634911360.0000\n",
            "Epoch 173/600\n",
            "\u001b[1m30/30\u001b[0m \u001b[32m━━━━━━━━━━━━━━━━━━━━\u001b[0m\u001b[37m\u001b[0m \u001b[1m0s\u001b[0m 5ms/step - loss: 745146368.0000 - val_loss: 633982144.0000\n",
            "Epoch 174/600\n",
            "\u001b[1m30/30\u001b[0m \u001b[32m━━━━━━━━━━━━━━━━━━━━\u001b[0m\u001b[37m\u001b[0m \u001b[1m0s\u001b[0m 5ms/step - loss: 1069103552.0000 - val_loss: 630968448.0000\n",
            "Epoch 175/600\n",
            "\u001b[1m30/30\u001b[0m \u001b[32m━━━━━━━━━━━━━━━━━━━━\u001b[0m\u001b[37m\u001b[0m \u001b[1m0s\u001b[0m 5ms/step - loss: 1059582208.0000 - val_loss: 631187328.0000\n",
            "Epoch 176/600\n",
            "\u001b[1m30/30\u001b[0m \u001b[32m━━━━━━━━━━━━━━━━━━━━\u001b[0m\u001b[37m\u001b[0m \u001b[1m0s\u001b[0m 5ms/step - loss: 826754624.0000 - val_loss: 626586112.0000\n",
            "Epoch 177/600\n",
            "\u001b[1m30/30\u001b[0m \u001b[32m━━━━━━━━━━━━━━━━━━━━\u001b[0m\u001b[37m\u001b[0m \u001b[1m0s\u001b[0m 5ms/step - loss: 1007182080.0000 - val_loss: 626695296.0000\n",
            "Epoch 178/600\n",
            "\u001b[1m30/30\u001b[0m \u001b[32m━━━━━━━━━━━━━━━━━━━━\u001b[0m\u001b[37m\u001b[0m \u001b[1m0s\u001b[0m 5ms/step - loss: 1091508864.0000 - val_loss: 624551232.0000\n",
            "Epoch 179/600\n",
            "\u001b[1m30/30\u001b[0m \u001b[32m━━━━━━━━━━━━━━━━━━━━\u001b[0m\u001b[37m\u001b[0m \u001b[1m0s\u001b[0m 5ms/step - loss: 1105450880.0000 - val_loss: 624601984.0000\n",
            "Epoch 180/600\n",
            "\u001b[1m30/30\u001b[0m \u001b[32m━━━━━━━━━━━━━━━━━━━━\u001b[0m\u001b[37m\u001b[0m \u001b[1m0s\u001b[0m 5ms/step - loss: 1321366784.0000 - val_loss: 621702720.0000\n",
            "Epoch 181/600\n",
            "\u001b[1m30/30\u001b[0m \u001b[32m━━━━━━━━━━━━━━━━━━━━\u001b[0m\u001b[37m\u001b[0m \u001b[1m0s\u001b[0m 5ms/step - loss: 991720768.0000 - val_loss: 617888640.0000\n",
            "Epoch 182/600\n",
            "\u001b[1m30/30\u001b[0m \u001b[32m━━━━━━━━━━━━━━━━━━━━\u001b[0m\u001b[37m\u001b[0m \u001b[1m0s\u001b[0m 5ms/step - loss: 1354851840.0000 - val_loss: 617334080.0000\n",
            "Epoch 183/600\n",
            "\u001b[1m30/30\u001b[0m \u001b[32m━━━━━━━━━━━━━━━━━━━━\u001b[0m\u001b[37m\u001b[0m \u001b[1m0s\u001b[0m 5ms/step - loss: 1351729280.0000 - val_loss: 616509632.0000\n",
            "Epoch 184/600\n",
            "\u001b[1m30/30\u001b[0m \u001b[32m━━━━━━━━━━━━━━━━━━━━\u001b[0m\u001b[37m\u001b[0m \u001b[1m0s\u001b[0m 5ms/step - loss: 943249536.0000 - val_loss: 614005312.0000\n",
            "Epoch 185/600\n",
            "\u001b[1m30/30\u001b[0m \u001b[32m━━━━━━━━━━━━━━━━━━━━\u001b[0m\u001b[37m\u001b[0m \u001b[1m0s\u001b[0m 5ms/step - loss: 1195071232.0000 - val_loss: 612221248.0000\n",
            "Epoch 186/600\n",
            "\u001b[1m30/30\u001b[0m \u001b[32m━━━━━━━━━━━━━━━━━━━━\u001b[0m\u001b[37m\u001b[0m \u001b[1m0s\u001b[0m 5ms/step - loss: 746510144.0000 - val_loss: 610905152.0000\n",
            "Epoch 187/600\n",
            "\u001b[1m30/30\u001b[0m \u001b[32m━━━━━━━━━━━━━━━━━━━━\u001b[0m\u001b[37m\u001b[0m \u001b[1m0s\u001b[0m 5ms/step - loss: 1165483008.0000 - val_loss: 610750080.0000\n",
            "Epoch 188/600\n",
            "\u001b[1m30/30\u001b[0m \u001b[32m━━━━━━━━━━━━━━━━━━━━\u001b[0m\u001b[37m\u001b[0m \u001b[1m0s\u001b[0m 5ms/step - loss: 1025129920.0000 - val_loss: 609684096.0000\n",
            "Epoch 189/600\n",
            "\u001b[1m30/30\u001b[0m \u001b[32m━━━━━━━━━━━━━━━━━━━━\u001b[0m\u001b[37m\u001b[0m \u001b[1m0s\u001b[0m 5ms/step - loss: 875722752.0000 - val_loss: 609728832.0000\n",
            "Epoch 190/600\n",
            "\u001b[1m30/30\u001b[0m \u001b[32m━━━━━━━━━━━━━━━━━━━━\u001b[0m\u001b[37m\u001b[0m \u001b[1m0s\u001b[0m 6ms/step - loss: 1604357632.0000 - val_loss: 606080768.0000\n",
            "Epoch 191/600\n",
            "\u001b[1m30/30\u001b[0m \u001b[32m━━━━━━━━━━━━━━━━━━━━\u001b[0m\u001b[37m\u001b[0m \u001b[1m0s\u001b[0m 6ms/step - loss: 807905920.0000 - val_loss: 606200704.0000\n",
            "Epoch 192/600\n",
            "\u001b[1m30/30\u001b[0m \u001b[32m━━━━━━━━━━━━━━━━━━━━\u001b[0m\u001b[37m\u001b[0m \u001b[1m0s\u001b[0m 6ms/step - loss: 902427776.0000 - val_loss: 606402816.0000\n",
            "Epoch 193/600\n",
            "\u001b[1m30/30\u001b[0m \u001b[32m━━━━━━━━━━━━━━━━━━━━\u001b[0m\u001b[37m\u001b[0m \u001b[1m0s\u001b[0m 5ms/step - loss: 1267939328.0000 - val_loss: 602222976.0000\n",
            "Epoch 194/600\n",
            "\u001b[1m30/30\u001b[0m \u001b[32m━━━━━━━━━━━━━━━━━━━━\u001b[0m\u001b[37m\u001b[0m \u001b[1m0s\u001b[0m 5ms/step - loss: 1224417792.0000 - val_loss: 602550912.0000\n",
            "Epoch 195/600\n",
            "\u001b[1m30/30\u001b[0m \u001b[32m━━━━━━━━━━━━━━━━━━━━\u001b[0m\u001b[37m\u001b[0m \u001b[1m0s\u001b[0m 5ms/step - loss: 924845312.0000 - val_loss: 599286912.0000\n",
            "Epoch 196/600\n",
            "\u001b[1m30/30\u001b[0m \u001b[32m━━━━━━━━━━━━━━━━━━━━\u001b[0m\u001b[37m\u001b[0m \u001b[1m0s\u001b[0m 5ms/step - loss: 1034788416.0000 - val_loss: 599401856.0000\n",
            "Epoch 197/600\n",
            "\u001b[1m30/30\u001b[0m \u001b[32m━━━━━━━━━━━━━━━━━━━━\u001b[0m\u001b[37m\u001b[0m \u001b[1m0s\u001b[0m 6ms/step - loss: 1041813888.0000 - val_loss: 599386048.0000\n",
            "Epoch 198/600\n",
            "\u001b[1m30/30\u001b[0m \u001b[32m━━━━━━━━━━━━━━━━━━━━\u001b[0m\u001b[37m\u001b[0m \u001b[1m0s\u001b[0m 5ms/step - loss: 1074796160.0000 - val_loss: 596710208.0000\n",
            "Epoch 199/600\n",
            "\u001b[1m30/30\u001b[0m \u001b[32m━━━━━━━━━━━━━━━━━━━━\u001b[0m\u001b[37m\u001b[0m \u001b[1m0s\u001b[0m 5ms/step - loss: 1831405312.0000 - val_loss: 594607616.0000\n",
            "Epoch 200/600\n",
            "\u001b[1m30/30\u001b[0m \u001b[32m━━━━━━━━━━━━━━━━━━━━\u001b[0m\u001b[37m\u001b[0m \u001b[1m0s\u001b[0m 5ms/step - loss: 1117081728.0000 - val_loss: 592779584.0000\n",
            "Epoch 201/600\n",
            "\u001b[1m30/30\u001b[0m \u001b[32m━━━━━━━━━━━━━━━━━━━━\u001b[0m\u001b[37m\u001b[0m \u001b[1m0s\u001b[0m 5ms/step - loss: 1044405632.0000 - val_loss: 593199680.0000\n",
            "Epoch 202/600\n",
            "\u001b[1m30/30\u001b[0m \u001b[32m━━━━━━━━━━━━━━━━━━━━\u001b[0m\u001b[37m\u001b[0m \u001b[1m0s\u001b[0m 6ms/step - loss: 1557684096.0000 - val_loss: 591153344.0000\n",
            "Epoch 203/600\n",
            "\u001b[1m30/30\u001b[0m \u001b[32m━━━━━━━━━━━━━━━━━━━━\u001b[0m\u001b[37m\u001b[0m \u001b[1m0s\u001b[0m 5ms/step - loss: 1525136384.0000 - val_loss: 591180672.0000\n",
            "Epoch 204/600\n",
            "\u001b[1m30/30\u001b[0m \u001b[32m━━━━━━━━━━━━━━━━━━━━\u001b[0m\u001b[37m\u001b[0m \u001b[1m0s\u001b[0m 5ms/step - loss: 929839488.0000 - val_loss: 588771520.0000\n",
            "Epoch 205/600\n",
            "\u001b[1m30/30\u001b[0m \u001b[32m━━━━━━━━━━━━━━━━━━━━\u001b[0m\u001b[37m\u001b[0m \u001b[1m0s\u001b[0m 5ms/step - loss: 991339264.0000 - val_loss: 588625472.0000\n",
            "Epoch 206/600\n",
            "\u001b[1m30/30\u001b[0m \u001b[32m━━━━━━━━━━━━━━━━━━━━\u001b[0m\u001b[37m\u001b[0m \u001b[1m0s\u001b[0m 5ms/step - loss: 1120849664.0000 - val_loss: 588482432.0000\n",
            "Epoch 207/600\n",
            "\u001b[1m30/30\u001b[0m \u001b[32m━━━━━━━━━━━━━━━━━━━━\u001b[0m\u001b[37m\u001b[0m \u001b[1m0s\u001b[0m 5ms/step - loss: 1139854336.0000 - val_loss: 585261312.0000\n",
            "Epoch 208/600\n",
            "\u001b[1m30/30\u001b[0m \u001b[32m━━━━━━━━━━━━━━━━━━━━\u001b[0m\u001b[37m\u001b[0m \u001b[1m0s\u001b[0m 5ms/step - loss: 1015183488.0000 - val_loss: 585836416.0000\n",
            "Epoch 209/600\n",
            "\u001b[1m30/30\u001b[0m \u001b[32m━━━━━━━━━━━━━━━━━━━━\u001b[0m\u001b[37m\u001b[0m \u001b[1m0s\u001b[0m 5ms/step - loss: 778323968.0000 - val_loss: 583421696.0000\n",
            "Epoch 210/600\n",
            "\u001b[1m30/30\u001b[0m \u001b[32m━━━━━━━━━━━━━━━━━━━━\u001b[0m\u001b[37m\u001b[0m \u001b[1m0s\u001b[0m 8ms/step - loss: 950446976.0000 - val_loss: 582829824.0000\n",
            "Epoch 211/600\n",
            "\u001b[1m30/30\u001b[0m \u001b[32m━━━━━━━━━━━━━━━━━━━━\u001b[0m\u001b[37m\u001b[0m \u001b[1m0s\u001b[0m 7ms/step - loss: 797992832.0000 - val_loss: 580434752.0000\n",
            "Epoch 212/600\n",
            "\u001b[1m30/30\u001b[0m \u001b[32m━━━━━━━━━━━━━━━━━━━━\u001b[0m\u001b[37m\u001b[0m \u001b[1m0s\u001b[0m 7ms/step - loss: 829199808.0000 - val_loss: 582669760.0000\n",
            "Epoch 213/600\n",
            "\u001b[1m30/30\u001b[0m \u001b[32m━━━━━━━━━━━━━━━━━━━━\u001b[0m\u001b[37m\u001b[0m \u001b[1m0s\u001b[0m 7ms/step - loss: 1658959872.0000 - val_loss: 582275584.0000\n",
            "Epoch 214/600\n",
            "\u001b[1m30/30\u001b[0m \u001b[32m━━━━━━━━━━━━━━━━━━━━\u001b[0m\u001b[37m\u001b[0m \u001b[1m0s\u001b[0m 7ms/step - loss: 1076766720.0000 - val_loss: 578511232.0000\n",
            "Epoch 215/600\n",
            "\u001b[1m30/30\u001b[0m \u001b[32m━━━━━━━━━━━━━━━━━━━━\u001b[0m\u001b[37m\u001b[0m \u001b[1m0s\u001b[0m 7ms/step - loss: 1435299840.0000 - val_loss: 578767936.0000\n",
            "Epoch 216/600\n",
            "\u001b[1m30/30\u001b[0m \u001b[32m━━━━━━━━━━━━━━━━━━━━\u001b[0m\u001b[37m\u001b[0m \u001b[1m0s\u001b[0m 8ms/step - loss: 1533243648.0000 - val_loss: 577073664.0000\n",
            "Epoch 217/600\n",
            "\u001b[1m30/30\u001b[0m \u001b[32m━━━━━━━━━━━━━━━━━━━━\u001b[0m\u001b[37m\u001b[0m \u001b[1m0s\u001b[0m 7ms/step - loss: 830421184.0000 - val_loss: 575473600.0000\n",
            "Epoch 218/600\n",
            "\u001b[1m30/30\u001b[0m \u001b[32m━━━━━━━━━━━━━━━━━━━━\u001b[0m\u001b[37m\u001b[0m \u001b[1m0s\u001b[0m 8ms/step - loss: 817767296.0000 - val_loss: 573813760.0000\n",
            "Epoch 219/600\n",
            "\u001b[1m30/30\u001b[0m \u001b[32m━━━━━━━━━━━━━━━━━━━━\u001b[0m\u001b[37m\u001b[0m \u001b[1m0s\u001b[0m 8ms/step - loss: 937753344.0000 - val_loss: 574043392.0000\n",
            "Epoch 220/600\n",
            "\u001b[1m30/30\u001b[0m \u001b[32m━━━━━━━━━━━━━━━━━━━━\u001b[0m\u001b[37m\u001b[0m \u001b[1m0s\u001b[0m 8ms/step - loss: 864957696.0000 - val_loss: 572363072.0000\n",
            "Epoch 221/600\n",
            "\u001b[1m30/30\u001b[0m \u001b[32m━━━━━━━━━━━━━━━━━━━━\u001b[0m\u001b[37m\u001b[0m \u001b[1m0s\u001b[0m 8ms/step - loss: 904360448.0000 - val_loss: 572119296.0000\n",
            "Epoch 222/600\n",
            "\u001b[1m30/30\u001b[0m \u001b[32m━━━━━━━━━━━━━━━━━━━━\u001b[0m\u001b[37m\u001b[0m \u001b[1m0s\u001b[0m 6ms/step - loss: 876830912.0000 - val_loss: 572123648.0000\n",
            "Epoch 223/600\n",
            "\u001b[1m30/30\u001b[0m \u001b[32m━━━━━━━━━━━━━━━━━━━━\u001b[0m\u001b[37m\u001b[0m \u001b[1m0s\u001b[0m 5ms/step - loss: 1008624640.0000 - val_loss: 570174912.0000\n",
            "Epoch 224/600\n",
            "\u001b[1m30/30\u001b[0m \u001b[32m━━━━━━━━━━━━━━━━━━━━\u001b[0m\u001b[37m\u001b[0m \u001b[1m0s\u001b[0m 5ms/step - loss: 1662909824.0000 - val_loss: 569866560.0000\n",
            "Epoch 225/600\n",
            "\u001b[1m30/30\u001b[0m \u001b[32m━━━━━━━━━━━━━━━━━━━━\u001b[0m\u001b[37m\u001b[0m \u001b[1m0s\u001b[0m 5ms/step - loss: 1177204480.0000 - val_loss: 567986624.0000\n",
            "Epoch 226/600\n",
            "\u001b[1m30/30\u001b[0m \u001b[32m━━━━━━━━━━━━━━━━━━━━\u001b[0m\u001b[37m\u001b[0m \u001b[1m0s\u001b[0m 4ms/step - loss: 1031393664.0000 - val_loss: 567704192.0000\n",
            "Epoch 227/600\n",
            "\u001b[1m30/30\u001b[0m \u001b[32m━━━━━━━━━━━━━━━━━━━━\u001b[0m\u001b[37m\u001b[0m \u001b[1m0s\u001b[0m 5ms/step - loss: 863528640.0000 - val_loss: 565908928.0000\n",
            "Epoch 228/600\n",
            "\u001b[1m30/30\u001b[0m \u001b[32m━━━━━━━━━━━━━━━━━━━━\u001b[0m\u001b[37m\u001b[0m \u001b[1m0s\u001b[0m 5ms/step - loss: 1138637440.0000 - val_loss: 563895488.0000\n",
            "Epoch 229/600\n",
            "\u001b[1m30/30\u001b[0m \u001b[32m━━━━━━━━━━━━━━━━━━━━\u001b[0m\u001b[37m\u001b[0m \u001b[1m0s\u001b[0m 5ms/step - loss: 907203264.0000 - val_loss: 563728256.0000\n",
            "Epoch 230/600\n",
            "\u001b[1m30/30\u001b[0m \u001b[32m━━━━━━━━━━━━━━━━━━━━\u001b[0m\u001b[37m\u001b[0m \u001b[1m0s\u001b[0m 5ms/step - loss: 818766080.0000 - val_loss: 562338624.0000\n",
            "Epoch 231/600\n",
            "\u001b[1m30/30\u001b[0m \u001b[32m━━━━━━━━━━━━━━━━━━━━\u001b[0m\u001b[37m\u001b[0m \u001b[1m0s\u001b[0m 5ms/step - loss: 879693760.0000 - val_loss: 562206464.0000\n",
            "Epoch 232/600\n",
            "\u001b[1m30/30\u001b[0m \u001b[32m━━━━━━━━━━━━━━━━━━━━\u001b[0m\u001b[37m\u001b[0m \u001b[1m0s\u001b[0m 5ms/step - loss: 1218676864.0000 - val_loss: 564032704.0000\n",
            "Epoch 233/600\n",
            "\u001b[1m30/30\u001b[0m \u001b[32m━━━━━━━━━━━━━━━━━━━━\u001b[0m\u001b[37m\u001b[0m \u001b[1m0s\u001b[0m 6ms/step - loss: 850336256.0000 - val_loss: 560715712.0000\n",
            "Epoch 234/600\n",
            "\u001b[1m30/30\u001b[0m \u001b[32m━━━━━━━━━━━━━━━━━━━━\u001b[0m\u001b[37m\u001b[0m \u001b[1m0s\u001b[0m 5ms/step - loss: 1010115456.0000 - val_loss: 562043264.0000\n",
            "Epoch 235/600\n",
            "\u001b[1m30/30\u001b[0m \u001b[32m━━━━━━━━━━━━━━━━━━━━\u001b[0m\u001b[37m\u001b[0m \u001b[1m0s\u001b[0m 6ms/step - loss: 966299840.0000 - val_loss: 561080512.0000\n",
            "Epoch 236/600\n",
            "\u001b[1m30/30\u001b[0m \u001b[32m━━━━━━━━━━━━━━━━━━━━\u001b[0m\u001b[37m\u001b[0m \u001b[1m0s\u001b[0m 5ms/step - loss: 666846272.0000 - val_loss: 559373696.0000\n",
            "Epoch 237/600\n",
            "\u001b[1m30/30\u001b[0m \u001b[32m━━━━━━━━━━━━━━━━━━━━\u001b[0m\u001b[37m\u001b[0m \u001b[1m0s\u001b[0m 6ms/step - loss: 1226370944.0000 - val_loss: 559075136.0000\n",
            "Epoch 238/600\n",
            "\u001b[1m30/30\u001b[0m \u001b[32m━━━━━━━━━━━━━━━━━━━━\u001b[0m\u001b[37m\u001b[0m \u001b[1m0s\u001b[0m 6ms/step - loss: 733063744.0000 - val_loss: 558176640.0000\n",
            "Epoch 239/600\n",
            "\u001b[1m30/30\u001b[0m \u001b[32m━━━━━━━━━━━━━━━━━━━━\u001b[0m\u001b[37m\u001b[0m \u001b[1m0s\u001b[0m 5ms/step - loss: 789313536.0000 - val_loss: 558962816.0000\n",
            "Epoch 240/600\n",
            "\u001b[1m30/30\u001b[0m \u001b[32m━━━━━━━━━━━━━━━━━━━━\u001b[0m\u001b[37m\u001b[0m \u001b[1m0s\u001b[0m 5ms/step - loss: 928976640.0000 - val_loss: 561441728.0000\n",
            "Epoch 241/600\n",
            "\u001b[1m30/30\u001b[0m \u001b[32m━━━━━━━━━━━━━━━━━━━━\u001b[0m\u001b[37m\u001b[0m \u001b[1m0s\u001b[0m 5ms/step - loss: 922773632.0000 - val_loss: 557164288.0000\n",
            "Epoch 242/600\n",
            "\u001b[1m30/30\u001b[0m \u001b[32m━━━━━━━━━━━━━━━━━━━━\u001b[0m\u001b[37m\u001b[0m \u001b[1m0s\u001b[0m 4ms/step - loss: 846538176.0000 - val_loss: 556682560.0000\n",
            "Epoch 243/600\n",
            "\u001b[1m30/30\u001b[0m \u001b[32m━━━━━━━━━━━━━━━━━━━━\u001b[0m\u001b[37m\u001b[0m \u001b[1m0s\u001b[0m 5ms/step - loss: 990245120.0000 - val_loss: 556911872.0000\n",
            "Epoch 244/600\n",
            "\u001b[1m30/30\u001b[0m \u001b[32m━━━━━━━━━━━━━━━━━━━━\u001b[0m\u001b[37m\u001b[0m \u001b[1m0s\u001b[0m 5ms/step - loss: 1049061632.0000 - val_loss: 555106880.0000\n",
            "Epoch 245/600\n",
            "\u001b[1m30/30\u001b[0m \u001b[32m━━━━━━━━━━━━━━━━━━━━\u001b[0m\u001b[37m\u001b[0m \u001b[1m0s\u001b[0m 5ms/step - loss: 681685888.0000 - val_loss: 553964032.0000\n",
            "Epoch 246/600\n",
            "\u001b[1m30/30\u001b[0m \u001b[32m━━━━━━━━━━━━━━━━━━━━\u001b[0m\u001b[37m\u001b[0m \u001b[1m0s\u001b[0m 5ms/step - loss: 1423554304.0000 - val_loss: 557339968.0000\n",
            "Epoch 247/600\n",
            "\u001b[1m30/30\u001b[0m \u001b[32m━━━━━━━━━━━━━━━━━━━━\u001b[0m\u001b[37m\u001b[0m \u001b[1m0s\u001b[0m 5ms/step - loss: 840461312.0000 - val_loss: 554521856.0000\n",
            "Epoch 248/600\n",
            "\u001b[1m30/30\u001b[0m \u001b[32m━━━━━━━━━━━━━━━━━━━━\u001b[0m\u001b[37m\u001b[0m \u001b[1m0s\u001b[0m 5ms/step - loss: 1244244352.0000 - val_loss: 554238912.0000\n",
            "Epoch 249/600\n",
            "\u001b[1m30/30\u001b[0m \u001b[32m━━━━━━━━━━━━━━━━━━━━\u001b[0m\u001b[37m\u001b[0m \u001b[1m0s\u001b[0m 5ms/step - loss: 1294168064.0000 - val_loss: 553518080.0000\n",
            "Epoch 250/600\n",
            "\u001b[1m30/30\u001b[0m \u001b[32m━━━━━━━━━━━━━━━━━━━━\u001b[0m\u001b[37m\u001b[0m \u001b[1m0s\u001b[0m 5ms/step - loss: 837555456.0000 - val_loss: 552818368.0000\n",
            "Epoch 251/600\n",
            "\u001b[1m30/30\u001b[0m \u001b[32m━━━━━━━━━━━━━━━━━━━━\u001b[0m\u001b[37m\u001b[0m \u001b[1m0s\u001b[0m 4ms/step - loss: 932569344.0000 - val_loss: 551586432.0000\n",
            "Epoch 252/600\n",
            "\u001b[1m30/30\u001b[0m \u001b[32m━━━━━━━━━━━━━━━━━━━━\u001b[0m\u001b[37m\u001b[0m \u001b[1m0s\u001b[0m 6ms/step - loss: 719211776.0000 - val_loss: 550059968.0000\n",
            "Epoch 253/600\n",
            "\u001b[1m30/30\u001b[0m \u001b[32m━━━━━━━━━━━━━━━━━━━━\u001b[0m\u001b[37m\u001b[0m \u001b[1m0s\u001b[0m 5ms/step - loss: 1046343616.0000 - val_loss: 551939392.0000\n",
            "Epoch 254/600\n",
            "\u001b[1m30/30\u001b[0m \u001b[32m━━━━━━━━━━━━━━━━━━━━\u001b[0m\u001b[37m\u001b[0m \u001b[1m0s\u001b[0m 5ms/step - loss: 891833728.0000 - val_loss: 549813632.0000\n",
            "Epoch 255/600\n",
            "\u001b[1m30/30\u001b[0m \u001b[32m━━━━━━━━━━━━━━━━━━━━\u001b[0m\u001b[37m\u001b[0m \u001b[1m0s\u001b[0m 5ms/step - loss: 834643456.0000 - val_loss: 548983488.0000\n",
            "Epoch 256/600\n",
            "\u001b[1m30/30\u001b[0m \u001b[32m━━━━━━━━━━━━━━━━━━━━\u001b[0m\u001b[37m\u001b[0m \u001b[1m0s\u001b[0m 5ms/step - loss: 1029683456.0000 - val_loss: 548425856.0000\n",
            "Epoch 257/600\n",
            "\u001b[1m30/30\u001b[0m \u001b[32m━━━━━━━━━━━━━━━━━━━━\u001b[0m\u001b[37m\u001b[0m \u001b[1m0s\u001b[0m 5ms/step - loss: 1532976256.0000 - val_loss: 548538624.0000\n",
            "Epoch 258/600\n",
            "\u001b[1m30/30\u001b[0m \u001b[32m━━━━━━━━━━━━━━━━━━━━\u001b[0m\u001b[37m\u001b[0m \u001b[1m0s\u001b[0m 6ms/step - loss: 897752192.0000 - val_loss: 548553600.0000\n",
            "Epoch 259/600\n",
            "\u001b[1m30/30\u001b[0m \u001b[32m━━━━━━━━━━━━━━━━━━━━\u001b[0m\u001b[37m\u001b[0m \u001b[1m0s\u001b[0m 5ms/step - loss: 644948160.0000 - val_loss: 546003072.0000\n",
            "Epoch 260/600\n",
            "\u001b[1m30/30\u001b[0m \u001b[32m━━━━━━━━━━━━━━━━━━━━\u001b[0m\u001b[37m\u001b[0m \u001b[1m0s\u001b[0m 8ms/step - loss: 714669440.0000 - val_loss: 547905024.0000\n",
            "Epoch 261/600\n",
            "\u001b[1m30/30\u001b[0m \u001b[32m━━━━━━━━━━━━━━━━━━━━\u001b[0m\u001b[37m\u001b[0m \u001b[1m0s\u001b[0m 8ms/step - loss: 657110464.0000 - val_loss: 545456384.0000\n",
            "Epoch 262/600\n",
            "\u001b[1m30/30\u001b[0m \u001b[32m━━━━━━━━━━━━━━━━━━━━\u001b[0m\u001b[37m\u001b[0m \u001b[1m0s\u001b[0m 7ms/step - loss: 962745472.0000 - val_loss: 543761664.0000\n",
            "Epoch 263/600\n",
            "\u001b[1m30/30\u001b[0m \u001b[32m━━━━━━━━━━━━━━━━━━━━\u001b[0m\u001b[37m\u001b[0m \u001b[1m0s\u001b[0m 7ms/step - loss: 891628544.0000 - val_loss: 545392896.0000\n",
            "Epoch 264/600\n",
            "\u001b[1m30/30\u001b[0m \u001b[32m━━━━━━━━━━━━━━━━━━━━\u001b[0m\u001b[37m\u001b[0m \u001b[1m0s\u001b[0m 8ms/step - loss: 710832128.0000 - val_loss: 543072256.0000\n",
            "Epoch 265/600\n",
            "\u001b[1m30/30\u001b[0m \u001b[32m━━━━━━━━━━━━━━━━━━━━\u001b[0m\u001b[37m\u001b[0m \u001b[1m0s\u001b[0m 7ms/step - loss: 828975424.0000 - val_loss: 543844096.0000\n",
            "Epoch 266/600\n",
            "\u001b[1m30/30\u001b[0m \u001b[32m━━━━━━━━━━━━━━━━━━━━\u001b[0m\u001b[37m\u001b[0m \u001b[1m0s\u001b[0m 8ms/step - loss: 841434816.0000 - val_loss: 544460480.0000\n",
            "Epoch 267/600\n",
            "\u001b[1m30/30\u001b[0m \u001b[32m━━━━━━━━━━━━━━━━━━━━\u001b[0m\u001b[37m\u001b[0m \u001b[1m0s\u001b[0m 8ms/step - loss: 1123033856.0000 - val_loss: 542938368.0000\n",
            "Epoch 268/600\n",
            "\u001b[1m30/30\u001b[0m \u001b[32m━━━━━━━━━━━━━━━━━━━━\u001b[0m\u001b[37m\u001b[0m \u001b[1m0s\u001b[0m 8ms/step - loss: 1011544192.0000 - val_loss: 542104384.0000\n",
            "Epoch 269/600\n",
            "\u001b[1m30/30\u001b[0m \u001b[32m━━━━━━━━━━━━━━━━━━━━\u001b[0m\u001b[37m\u001b[0m \u001b[1m0s\u001b[0m 8ms/step - loss: 890197952.0000 - val_loss: 543209600.0000\n",
            "Epoch 270/600\n",
            "\u001b[1m30/30\u001b[0m \u001b[32m━━━━━━━━━━━━━━━━━━━━\u001b[0m\u001b[37m\u001b[0m \u001b[1m0s\u001b[0m 7ms/step - loss: 709699072.0000 - val_loss: 541239616.0000\n",
            "Epoch 271/600\n",
            "\u001b[1m30/30\u001b[0m \u001b[32m━━━━━━━━━━━━━━━━━━━━\u001b[0m\u001b[37m\u001b[0m \u001b[1m0s\u001b[0m 8ms/step - loss: 696373888.0000 - val_loss: 539350592.0000\n",
            "Epoch 272/600\n",
            "\u001b[1m30/30\u001b[0m \u001b[32m━━━━━━━━━━━━━━━━━━━━\u001b[0m\u001b[37m\u001b[0m \u001b[1m0s\u001b[0m 8ms/step - loss: 821509376.0000 - val_loss: 540507264.0000\n",
            "Epoch 273/600\n",
            "\u001b[1m30/30\u001b[0m \u001b[32m━━━━━━━━━━━━━━━━━━━━\u001b[0m\u001b[37m\u001b[0m \u001b[1m0s\u001b[0m 5ms/step - loss: 607550528.0000 - val_loss: 538783424.0000\n",
            "Epoch 274/600\n",
            "\u001b[1m30/30\u001b[0m \u001b[32m━━━━━━━━━━━━━━━━━━━━\u001b[0m\u001b[37m\u001b[0m \u001b[1m0s\u001b[0m 5ms/step - loss: 921187200.0000 - val_loss: 539989568.0000\n",
            "Epoch 275/600\n",
            "\u001b[1m30/30\u001b[0m \u001b[32m━━━━━━━━━━━━━━━━━━━━\u001b[0m\u001b[37m\u001b[0m \u001b[1m0s\u001b[0m 5ms/step - loss: 1159957760.0000 - val_loss: 539195840.0000\n",
            "Epoch 276/600\n",
            "\u001b[1m30/30\u001b[0m \u001b[32m━━━━━━━━━━━━━━━━━━━━\u001b[0m\u001b[37m\u001b[0m \u001b[1m0s\u001b[0m 5ms/step - loss: 733638400.0000 - val_loss: 538266944.0000\n",
            "Epoch 277/600\n",
            "\u001b[1m30/30\u001b[0m \u001b[32m━━━━━━━━━━━━━━━━━━━━\u001b[0m\u001b[37m\u001b[0m \u001b[1m0s\u001b[0m 4ms/step - loss: 1170278272.0000 - val_loss: 538953600.0000\n",
            "Epoch 278/600\n",
            "\u001b[1m30/30\u001b[0m \u001b[32m━━━━━━━━━━━━━━━━━━━━\u001b[0m\u001b[37m\u001b[0m \u001b[1m0s\u001b[0m 6ms/step - loss: 1037576192.0000 - val_loss: 537585664.0000\n",
            "Epoch 279/600\n",
            "\u001b[1m30/30\u001b[0m \u001b[32m━━━━━━━━━━━━━━━━━━━━\u001b[0m\u001b[37m\u001b[0m \u001b[1m0s\u001b[0m 5ms/step - loss: 1005641280.0000 - val_loss: 538247040.0000\n",
            "Epoch 280/600\n",
            "\u001b[1m30/30\u001b[0m \u001b[32m━━━━━━━━━━━━━━━━━━━━\u001b[0m\u001b[37m\u001b[0m \u001b[1m0s\u001b[0m 5ms/step - loss: 789802752.0000 - val_loss: 538216640.0000\n",
            "Epoch 281/600\n",
            "\u001b[1m30/30\u001b[0m \u001b[32m━━━━━━━━━━━━━━━━━━━━\u001b[0m\u001b[37m\u001b[0m \u001b[1m0s\u001b[0m 4ms/step - loss: 779998976.0000 - val_loss: 538597312.0000\n",
            "Epoch 282/600\n",
            "\u001b[1m30/30\u001b[0m \u001b[32m━━━━━━━━━━━━━━━━━━━━\u001b[0m\u001b[37m\u001b[0m \u001b[1m0s\u001b[0m 6ms/step - loss: 740245440.0000 - val_loss: 537878528.0000\n",
            "Epoch 283/600\n",
            "\u001b[1m30/30\u001b[0m \u001b[32m━━━━━━━━━━━━━━━━━━━━\u001b[0m\u001b[37m\u001b[0m \u001b[1m0s\u001b[0m 5ms/step - loss: 651081856.0000 - val_loss: 535959616.0000\n",
            "Epoch 284/600\n",
            "\u001b[1m30/30\u001b[0m \u001b[32m━━━━━━━━━━━━━━━━━━━━\u001b[0m\u001b[37m\u001b[0m \u001b[1m0s\u001b[0m 5ms/step - loss: 934270464.0000 - val_loss: 535106784.0000\n",
            "Epoch 285/600\n",
            "\u001b[1m30/30\u001b[0m \u001b[32m━━━━━━━━━━━━━━━━━━━━\u001b[0m\u001b[37m\u001b[0m \u001b[1m0s\u001b[0m 5ms/step - loss: 1294688256.0000 - val_loss: 535332160.0000\n",
            "Epoch 286/600\n",
            "\u001b[1m30/30\u001b[0m \u001b[32m━━━━━━━━━━━━━━━━━━━━\u001b[0m\u001b[37m\u001b[0m \u001b[1m0s\u001b[0m 5ms/step - loss: 934702528.0000 - val_loss: 536324960.0000\n",
            "Epoch 287/600\n",
            "\u001b[1m30/30\u001b[0m \u001b[32m━━━━━━━━━━━━━━━━━━━━\u001b[0m\u001b[37m\u001b[0m \u001b[1m0s\u001b[0m 5ms/step - loss: 877972224.0000 - val_loss: 535449696.0000\n",
            "Epoch 288/600\n",
            "\u001b[1m30/30\u001b[0m \u001b[32m━━━━━━━━━━━━━━━━━━━━\u001b[0m\u001b[37m\u001b[0m \u001b[1m0s\u001b[0m 6ms/step - loss: 1036590336.0000 - val_loss: 533294528.0000\n",
            "Epoch 289/600\n",
            "\u001b[1m30/30\u001b[0m \u001b[32m━━━━━━━━━━━━━━━━━━━━\u001b[0m\u001b[37m\u001b[0m \u001b[1m0s\u001b[0m 5ms/step - loss: 816007104.0000 - val_loss: 535884928.0000\n",
            "Epoch 290/600\n",
            "\u001b[1m30/30\u001b[0m \u001b[32m━━━━━━━━━━━━━━━━━━━━\u001b[0m\u001b[37m\u001b[0m \u001b[1m0s\u001b[0m 5ms/step - loss: 698979968.0000 - val_loss: 531316992.0000\n",
            "Epoch 291/600\n",
            "\u001b[1m30/30\u001b[0m \u001b[32m━━━━━━━━━━━━━━━━━━━━\u001b[0m\u001b[37m\u001b[0m \u001b[1m0s\u001b[0m 6ms/step - loss: 818560960.0000 - val_loss: 532956544.0000\n",
            "Epoch 292/600\n",
            "\u001b[1m30/30\u001b[0m \u001b[32m━━━━━━━━━━━━━━━━━━━━\u001b[0m\u001b[37m\u001b[0m \u001b[1m0s\u001b[0m 5ms/step - loss: 885208128.0000 - val_loss: 532453344.0000\n",
            "Epoch 293/600\n",
            "\u001b[1m30/30\u001b[0m \u001b[32m━━━━━━━━━━━━━━━━━━━━\u001b[0m\u001b[37m\u001b[0m \u001b[1m0s\u001b[0m 5ms/step - loss: 808520256.0000 - val_loss: 532513888.0000\n",
            "Epoch 294/600\n",
            "\u001b[1m30/30\u001b[0m \u001b[32m━━━━━━━━━━━━━━━━━━━━\u001b[0m\u001b[37m\u001b[0m \u001b[1m0s\u001b[0m 4ms/step - loss: 776629568.0000 - val_loss: 533270944.0000\n",
            "Epoch 295/600\n",
            "\u001b[1m30/30\u001b[0m \u001b[32m━━━━━━━━━━━━━━━━━━━━\u001b[0m\u001b[37m\u001b[0m \u001b[1m0s\u001b[0m 5ms/step - loss: 1066972736.0000 - val_loss: 531435552.0000\n",
            "Epoch 296/600\n",
            "\u001b[1m30/30\u001b[0m \u001b[32m━━━━━━━━━━━━━━━━━━━━\u001b[0m\u001b[37m\u001b[0m \u001b[1m0s\u001b[0m 5ms/step - loss: 803522176.0000 - val_loss: 530849504.0000\n",
            "Epoch 297/600\n",
            "\u001b[1m30/30\u001b[0m \u001b[32m━━━━━━━━━━━━━━━━━━━━\u001b[0m\u001b[37m\u001b[0m \u001b[1m0s\u001b[0m 5ms/step - loss: 637440064.0000 - val_loss: 531848256.0000\n",
            "Epoch 298/600\n",
            "\u001b[1m30/30\u001b[0m \u001b[32m━━━━━━━━━━━━━━━━━━━━\u001b[0m\u001b[37m\u001b[0m \u001b[1m0s\u001b[0m 5ms/step - loss: 1043421120.0000 - val_loss: 530595520.0000\n",
            "Epoch 299/600\n",
            "\u001b[1m30/30\u001b[0m \u001b[32m━━━━━━━━━━━━━━━━━━━━\u001b[0m\u001b[37m\u001b[0m \u001b[1m0s\u001b[0m 6ms/step - loss: 968205824.0000 - val_loss: 532548640.0000\n",
            "Epoch 300/600\n",
            "\u001b[1m30/30\u001b[0m \u001b[32m━━━━━━━━━━━━━━━━━━━━\u001b[0m\u001b[37m\u001b[0m \u001b[1m0s\u001b[0m 5ms/step - loss: 802162816.0000 - val_loss: 530401888.0000\n",
            "Epoch 301/600\n",
            "\u001b[1m30/30\u001b[0m \u001b[32m━━━━━━━━━━━━━━━━━━━━\u001b[0m\u001b[37m\u001b[0m \u001b[1m0s\u001b[0m 5ms/step - loss: 736537088.0000 - val_loss: 530932992.0000\n",
            "Epoch 302/600\n",
            "\u001b[1m30/30\u001b[0m \u001b[32m━━━━━━━━━━━━━━━━━━━━\u001b[0m\u001b[37m\u001b[0m \u001b[1m0s\u001b[0m 5ms/step - loss: 711496512.0000 - val_loss: 529043712.0000\n",
            "Epoch 303/600\n",
            "\u001b[1m30/30\u001b[0m \u001b[32m━━━━━━━━━━━━━━━━━━━━\u001b[0m\u001b[37m\u001b[0m \u001b[1m0s\u001b[0m 6ms/step - loss: 953173120.0000 - val_loss: 531155008.0000\n",
            "Epoch 304/600\n",
            "\u001b[1m30/30\u001b[0m \u001b[32m━━━━━━━━━━━━━━━━━━━━\u001b[0m\u001b[37m\u001b[0m \u001b[1m0s\u001b[0m 6ms/step - loss: 966662592.0000 - val_loss: 530480128.0000\n",
            "Epoch 305/600\n",
            "\u001b[1m30/30\u001b[0m \u001b[32m━━━━━━━━━━━━━━━━━━━━\u001b[0m\u001b[37m\u001b[0m \u001b[1m0s\u001b[0m 6ms/step - loss: 699904192.0000 - val_loss: 530620448.0000\n",
            "Epoch 306/600\n",
            "\u001b[1m30/30\u001b[0m \u001b[32m━━━━━━━━━━━━━━━━━━━━\u001b[0m\u001b[37m\u001b[0m \u001b[1m0s\u001b[0m 5ms/step - loss: 1020382336.0000 - val_loss: 528681408.0000\n",
            "Epoch 307/600\n",
            "\u001b[1m30/30\u001b[0m \u001b[32m━━━━━━━━━━━━━━━━━━━━\u001b[0m\u001b[37m\u001b[0m \u001b[1m0s\u001b[0m 5ms/step - loss: 1097566464.0000 - val_loss: 530461952.0000\n",
            "Epoch 308/600\n",
            "\u001b[1m30/30\u001b[0m \u001b[32m━━━━━━━━━━━━━━━━━━━━\u001b[0m\u001b[37m\u001b[0m \u001b[1m1s\u001b[0m 13ms/step - loss: 753152768.0000 - val_loss: 529705600.0000\n",
            "Epoch 309/600\n",
            "\u001b[1m30/30\u001b[0m \u001b[32m━━━━━━━━━━━━━━━━━━━━\u001b[0m\u001b[37m\u001b[0m \u001b[1m0s\u001b[0m 7ms/step - loss: 721693440.0000 - val_loss: 528747136.0000\n",
            "Epoch 310/600\n",
            "\u001b[1m30/30\u001b[0m \u001b[32m━━━━━━━━━━━━━━━━━━━━\u001b[0m\u001b[37m\u001b[0m \u001b[1m0s\u001b[0m 6ms/step - loss: 690267520.0000 - val_loss: 528993184.0000\n",
            "Epoch 311/600\n",
            "\u001b[1m30/30\u001b[0m \u001b[32m━━━━━━━━━━━━━━━━━━━━\u001b[0m\u001b[37m\u001b[0m \u001b[1m1s\u001b[0m 33ms/step - loss: 845451392.0000 - val_loss: 528128032.0000\n",
            "Epoch 312/600\n",
            "\u001b[1m30/30\u001b[0m \u001b[32m━━━━━━━━━━━━━━━━━━━━\u001b[0m\u001b[37m\u001b[0m \u001b[1m1s\u001b[0m 24ms/step - loss: 801404288.0000 - val_loss: 528443168.0000\n",
            "Epoch 313/600\n",
            "\u001b[1m30/30\u001b[0m \u001b[32m━━━━━━━━━━━━━━━━━━━━\u001b[0m\u001b[37m\u001b[0m \u001b[1m1s\u001b[0m 8ms/step - loss: 1181977216.0000 - val_loss: 527150528.0000\n",
            "Epoch 314/600\n",
            "\u001b[1m30/30\u001b[0m \u001b[32m━━━━━━━━━━━━━━━━━━━━\u001b[0m\u001b[37m\u001b[0m \u001b[1m0s\u001b[0m 9ms/step - loss: 710138880.0000 - val_loss: 528013408.0000\n",
            "Epoch 315/600\n",
            "\u001b[1m30/30\u001b[0m \u001b[32m━━━━━━━━━━━━━━━━━━━━\u001b[0m\u001b[37m\u001b[0m \u001b[1m1s\u001b[0m 7ms/step - loss: 691462848.0000 - val_loss: 525266336.0000\n",
            "Epoch 316/600\n",
            "\u001b[1m30/30\u001b[0m \u001b[32m━━━━━━━━━━━━━━━━━━━━\u001b[0m\u001b[37m\u001b[0m \u001b[1m0s\u001b[0m 5ms/step - loss: 848811072.0000 - val_loss: 525741216.0000\n",
            "Epoch 317/600\n",
            "\u001b[1m30/30\u001b[0m \u001b[32m━━━━━━━━━━━━━━━━━━━━\u001b[0m\u001b[37m\u001b[0m \u001b[1m0s\u001b[0m 5ms/step - loss: 842924480.0000 - val_loss: 526249472.0000\n",
            "Epoch 318/600\n",
            "\u001b[1m30/30\u001b[0m \u001b[32m━━━━━━━━━━━━━━━━━━━━\u001b[0m\u001b[37m\u001b[0m \u001b[1m0s\u001b[0m 6ms/step - loss: 1235726976.0000 - val_loss: 525646144.0000\n",
            "Epoch 319/600\n",
            "\u001b[1m30/30\u001b[0m \u001b[32m━━━━━━━━━━━━━━━━━━━━\u001b[0m\u001b[37m\u001b[0m \u001b[1m0s\u001b[0m 5ms/step - loss: 1488211200.0000 - val_loss: 525420416.0000\n",
            "Epoch 320/600\n",
            "\u001b[1m30/30\u001b[0m \u001b[32m━━━━━━━━━━━━━━━━━━━━\u001b[0m\u001b[37m\u001b[0m \u001b[1m0s\u001b[0m 6ms/step - loss: 1009984640.0000 - val_loss: 525144800.0000\n",
            "Epoch 321/600\n",
            "\u001b[1m30/30\u001b[0m \u001b[32m━━━━━━━━━━━━━━━━━━━━\u001b[0m\u001b[37m\u001b[0m \u001b[1m0s\u001b[0m 6ms/step - loss: 896882304.0000 - val_loss: 525974208.0000\n",
            "Epoch 322/600\n",
            "\u001b[1m30/30\u001b[0m \u001b[32m━━━━━━━━━━━━━━━━━━━━\u001b[0m\u001b[37m\u001b[0m \u001b[1m0s\u001b[0m 5ms/step - loss: 955782592.0000 - val_loss: 525784864.0000\n",
            "Epoch 323/600\n",
            "\u001b[1m30/30\u001b[0m \u001b[32m━━━━━━━━━━━━━━━━━━━━\u001b[0m\u001b[37m\u001b[0m \u001b[1m0s\u001b[0m 5ms/step - loss: 1083206912.0000 - val_loss: 525068064.0000\n",
            "Epoch 324/600\n",
            "\u001b[1m30/30\u001b[0m \u001b[32m━━━━━━━━━━━━━━━━━━━━\u001b[0m\u001b[37m\u001b[0m \u001b[1m0s\u001b[0m 5ms/step - loss: 910301568.0000 - val_loss: 525356672.0000\n",
            "Epoch 325/600\n",
            "\u001b[1m30/30\u001b[0m \u001b[32m━━━━━━━━━━━━━━━━━━━━\u001b[0m\u001b[37m\u001b[0m \u001b[1m0s\u001b[0m 5ms/step - loss: 784459584.0000 - val_loss: 525342880.0000\n",
            "Epoch 326/600\n",
            "\u001b[1m30/30\u001b[0m \u001b[32m━━━━━━━━━━━━━━━━━━━━\u001b[0m\u001b[37m\u001b[0m \u001b[1m0s\u001b[0m 5ms/step - loss: 685100608.0000 - val_loss: 524987296.0000\n",
            "Epoch 327/600\n",
            "\u001b[1m30/30\u001b[0m \u001b[32m━━━━━━━━━━━━━━━━━━━━\u001b[0m\u001b[37m\u001b[0m \u001b[1m0s\u001b[0m 5ms/step - loss: 794410752.0000 - val_loss: 524814016.0000\n",
            "Epoch 328/600\n",
            "\u001b[1m30/30\u001b[0m \u001b[32m━━━━━━━━━━━━━━━━━━━━\u001b[0m\u001b[37m\u001b[0m \u001b[1m0s\u001b[0m 5ms/step - loss: 842275904.0000 - val_loss: 525407840.0000\n",
            "Epoch 329/600\n",
            "\u001b[1m30/30\u001b[0m \u001b[32m━━━━━━━━━━━━━━━━━━━━\u001b[0m\u001b[37m\u001b[0m \u001b[1m0s\u001b[0m 5ms/step - loss: 1536080256.0000 - val_loss: 525681408.0000\n",
            "Epoch 330/600\n",
            "\u001b[1m30/30\u001b[0m \u001b[32m━━━━━━━━━━━━━━━━━━━━\u001b[0m\u001b[37m\u001b[0m \u001b[1m0s\u001b[0m 6ms/step - loss: 1153122304.0000 - val_loss: 524962880.0000\n",
            "Epoch 331/600\n",
            "\u001b[1m30/30\u001b[0m \u001b[32m━━━━━━━━━━━━━━━━━━━━\u001b[0m\u001b[37m\u001b[0m \u001b[1m0s\u001b[0m 5ms/step - loss: 857581184.0000 - val_loss: 525219520.0000\n",
            "Epoch 332/600\n",
            "\u001b[1m30/30\u001b[0m \u001b[32m━━━━━━━━━━━━━━━━━━━━\u001b[0m\u001b[37m\u001b[0m \u001b[1m0s\u001b[0m 6ms/step - loss: 945109376.0000 - val_loss: 524343392.0000\n",
            "Epoch 333/600\n",
            "\u001b[1m30/30\u001b[0m \u001b[32m━━━━━━━━━━━━━━━━━━━━\u001b[0m\u001b[37m\u001b[0m \u001b[1m0s\u001b[0m 5ms/step - loss: 922048704.0000 - val_loss: 525121184.0000\n",
            "Epoch 334/600\n",
            "\u001b[1m30/30\u001b[0m \u001b[32m━━━━━━━━━━━━━━━━━━━━\u001b[0m\u001b[37m\u001b[0m \u001b[1m0s\u001b[0m 5ms/step - loss: 1149522816.0000 - val_loss: 523516064.0000\n",
            "Epoch 335/600\n",
            "\u001b[1m30/30\u001b[0m \u001b[32m━━━━━━━━━━━━━━━━━━━━\u001b[0m\u001b[37m\u001b[0m \u001b[1m0s\u001b[0m 5ms/step - loss: 960329024.0000 - val_loss: 523695328.0000\n",
            "Epoch 336/600\n",
            "\u001b[1m30/30\u001b[0m \u001b[32m━━━━━━━━━━━━━━━━━━━━\u001b[0m\u001b[37m\u001b[0m \u001b[1m0s\u001b[0m 5ms/step - loss: 1051794240.0000 - val_loss: 524154304.0000\n",
            "Epoch 337/600\n",
            "\u001b[1m30/30\u001b[0m \u001b[32m━━━━━━━━━━━━━━━━━━━━\u001b[0m\u001b[37m\u001b[0m \u001b[1m0s\u001b[0m 6ms/step - loss: 1193176192.0000 - val_loss: 523526976.0000\n",
            "Epoch 338/600\n",
            "\u001b[1m30/30\u001b[0m \u001b[32m━━━━━━━━━━━━━━━━━━━━\u001b[0m\u001b[37m\u001b[0m \u001b[1m0s\u001b[0m 4ms/step - loss: 1428594304.0000 - val_loss: 523516448.0000\n",
            "Epoch 339/600\n",
            "\u001b[1m30/30\u001b[0m \u001b[32m━━━━━━━━━━━━━━━━━━━━\u001b[0m\u001b[37m\u001b[0m \u001b[1m0s\u001b[0m 5ms/step - loss: 1291017856.0000 - val_loss: 524264000.0000\n",
            "Epoch 340/600\n",
            "\u001b[1m30/30\u001b[0m \u001b[32m━━━━━━━━━━━━━━━━━━━━\u001b[0m\u001b[37m\u001b[0m \u001b[1m0s\u001b[0m 5ms/step - loss: 585836352.0000 - val_loss: 523770560.0000\n",
            "Epoch 341/600\n",
            "\u001b[1m30/30\u001b[0m \u001b[32m━━━━━━━━━━━━━━━━━━━━\u001b[0m\u001b[37m\u001b[0m \u001b[1m0s\u001b[0m 5ms/step - loss: 1040631936.0000 - val_loss: 523892832.0000\n",
            "Epoch 342/600\n",
            "\u001b[1m30/30\u001b[0m \u001b[32m━━━━━━━━━━━━━━━━━━━━\u001b[0m\u001b[37m\u001b[0m \u001b[1m0s\u001b[0m 5ms/step - loss: 643082048.0000 - val_loss: 522648544.0000\n",
            "Epoch 343/600\n",
            "\u001b[1m30/30\u001b[0m \u001b[32m━━━━━━━━━━━━━━━━━━━━\u001b[0m\u001b[37m\u001b[0m \u001b[1m0s\u001b[0m 5ms/step - loss: 1030485056.0000 - val_loss: 523540224.0000\n",
            "Epoch 344/600\n",
            "\u001b[1m30/30\u001b[0m \u001b[32m━━━━━━━━━━━━━━━━━━━━\u001b[0m\u001b[37m\u001b[0m \u001b[1m0s\u001b[0m 5ms/step - loss: 1022955328.0000 - val_loss: 522752128.0000\n",
            "Epoch 345/600\n",
            "\u001b[1m30/30\u001b[0m \u001b[32m━━━━━━━━━━━━━━━━━━━━\u001b[0m\u001b[37m\u001b[0m \u001b[1m0s\u001b[0m 5ms/step - loss: 688579200.0000 - val_loss: 522721152.0000\n",
            "Epoch 346/600\n",
            "\u001b[1m30/30\u001b[0m \u001b[32m━━━━━━━━━━━━━━━━━━━━\u001b[0m\u001b[37m\u001b[0m \u001b[1m0s\u001b[0m 5ms/step - loss: 733590464.0000 - val_loss: 523141920.0000\n",
            "Epoch 347/600\n",
            "\u001b[1m30/30\u001b[0m \u001b[32m━━━━━━━━━━━━━━━━━━━━\u001b[0m\u001b[37m\u001b[0m \u001b[1m0s\u001b[0m 5ms/step - loss: 863167616.0000 - val_loss: 522535808.0000\n",
            "Epoch 348/600\n",
            "\u001b[1m30/30\u001b[0m \u001b[32m━━━━━━━━━━━━━━━━━━━━\u001b[0m\u001b[37m\u001b[0m \u001b[1m0s\u001b[0m 5ms/step - loss: 1124748032.0000 - val_loss: 522518304.0000\n",
            "Epoch 349/600\n",
            "\u001b[1m30/30\u001b[0m \u001b[32m━━━━━━━━━━━━━━━━━━━━\u001b[0m\u001b[37m\u001b[0m \u001b[1m0s\u001b[0m 5ms/step - loss: 860549632.0000 - val_loss: 522475936.0000\n",
            "Epoch 350/600\n",
            "\u001b[1m30/30\u001b[0m \u001b[32m━━━━━━━━━━━━━━━━━━━━\u001b[0m\u001b[37m\u001b[0m \u001b[1m0s\u001b[0m 5ms/step - loss: 953107520.0000 - val_loss: 522270080.0000\n",
            "Epoch 351/600\n",
            "\u001b[1m30/30\u001b[0m \u001b[32m━━━━━━━━━━━━━━━━━━━━\u001b[0m\u001b[37m\u001b[0m \u001b[1m0s\u001b[0m 6ms/step - loss: 1476498304.0000 - val_loss: 524349088.0000\n",
            "Epoch 352/600\n",
            "\u001b[1m30/30\u001b[0m \u001b[32m━━━━━━━━━━━━━━━━━━━━\u001b[0m\u001b[37m\u001b[0m \u001b[1m0s\u001b[0m 5ms/step - loss: 587558720.0000 - val_loss: 522414848.0000\n",
            "Epoch 353/600\n",
            "\u001b[1m30/30\u001b[0m \u001b[32m━━━━━━━━━━━━━━━━━━━━\u001b[0m\u001b[37m\u001b[0m \u001b[1m0s\u001b[0m 6ms/step - loss: 823133696.0000 - val_loss: 522768512.0000\n",
            "Epoch 354/600\n",
            "\u001b[1m30/30\u001b[0m \u001b[32m━━━━━━━━━━━━━━━━━━━━\u001b[0m\u001b[37m\u001b[0m \u001b[1m0s\u001b[0m 6ms/step - loss: 1174223360.0000 - val_loss: 523974784.0000\n",
            "Epoch 355/600\n",
            "\u001b[1m30/30\u001b[0m \u001b[32m━━━━━━━━━━━━━━━━━━━━\u001b[0m\u001b[37m\u001b[0m \u001b[1m0s\u001b[0m 7ms/step - loss: 1374291072.0000 - val_loss: 523550304.0000\n",
            "Epoch 356/600\n",
            "\u001b[1m30/30\u001b[0m \u001b[32m━━━━━━━━━━━━━━━━━━━━\u001b[0m\u001b[37m\u001b[0m \u001b[1m0s\u001b[0m 7ms/step - loss: 1126431616.0000 - val_loss: 523279776.0000\n",
            "Epoch 357/600\n",
            "\u001b[1m30/30\u001b[0m \u001b[32m━━━━━━━━━━━━━━━━━━━━\u001b[0m\u001b[37m\u001b[0m \u001b[1m0s\u001b[0m 8ms/step - loss: 770618432.0000 - val_loss: 524039776.0000\n",
            "Epoch 358/600\n",
            "\u001b[1m30/30\u001b[0m \u001b[32m━━━━━━━━━━━━━━━━━━━━\u001b[0m\u001b[37m\u001b[0m \u001b[1m0s\u001b[0m 7ms/step - loss: 669525696.0000 - val_loss: 521673376.0000\n",
            "Epoch 359/600\n",
            "\u001b[1m30/30\u001b[0m \u001b[32m━━━━━━━━━━━━━━━━━━━━\u001b[0m\u001b[37m\u001b[0m \u001b[1m0s\u001b[0m 8ms/step - loss: 1071347072.0000 - val_loss: 522448448.0000\n",
            "Epoch 360/600\n",
            "\u001b[1m30/30\u001b[0m \u001b[32m━━━━━━━━━━━━━━━━━━━━\u001b[0m\u001b[37m\u001b[0m \u001b[1m0s\u001b[0m 8ms/step - loss: 1215761024.0000 - val_loss: 522853248.0000\n",
            "Epoch 361/600\n",
            "\u001b[1m30/30\u001b[0m \u001b[32m━━━━━━━━━━━━━━━━━━━━\u001b[0m\u001b[37m\u001b[0m \u001b[1m0s\u001b[0m 7ms/step - loss: 776344256.0000 - val_loss: 522228160.0000\n",
            "Epoch 362/600\n",
            "\u001b[1m30/30\u001b[0m \u001b[32m━━━━━━━━━━━━━━━━━━━━\u001b[0m\u001b[37m\u001b[0m \u001b[1m0s\u001b[0m 7ms/step - loss: 836814656.0000 - val_loss: 522252512.0000\n",
            "Epoch 363/600\n",
            "\u001b[1m30/30\u001b[0m \u001b[32m━━━━━━━━━━━━━━━━━━━━\u001b[0m\u001b[37m\u001b[0m \u001b[1m0s\u001b[0m 8ms/step - loss: 675718208.0000 - val_loss: 519993984.0000\n",
            "Epoch 364/600\n",
            "\u001b[1m30/30\u001b[0m \u001b[32m━━━━━━━━━━━━━━━━━━━━\u001b[0m\u001b[37m\u001b[0m \u001b[1m1s\u001b[0m 7ms/step - loss: 613683968.0000 - val_loss: 520450208.0000\n",
            "Epoch 365/600\n",
            "\u001b[1m30/30\u001b[0m \u001b[32m━━━━━━━━━━━━━━━━━━━━\u001b[0m\u001b[37m\u001b[0m \u001b[1m0s\u001b[0m 5ms/step - loss: 645045376.0000 - val_loss: 519327680.0000\n",
            "Epoch 366/600\n",
            "\u001b[1m30/30\u001b[0m \u001b[32m━━━━━━━━━━━━━━━━━━━━\u001b[0m\u001b[37m\u001b[0m \u001b[1m0s\u001b[0m 5ms/step - loss: 790882176.0000 - val_loss: 520170368.0000\n",
            "Epoch 367/600\n",
            "\u001b[1m30/30\u001b[0m \u001b[32m━━━━━━━━━━━━━━━━━━━━\u001b[0m\u001b[37m\u001b[0m \u001b[1m0s\u001b[0m 6ms/step - loss: 1265394944.0000 - val_loss: 521029952.0000\n",
            "Epoch 368/600\n",
            "\u001b[1m30/30\u001b[0m \u001b[32m━━━━━━━━━━━━━━━━━━━━\u001b[0m\u001b[37m\u001b[0m \u001b[1m0s\u001b[0m 5ms/step - loss: 756439232.0000 - val_loss: 519505792.0000\n",
            "Epoch 369/600\n",
            "\u001b[1m30/30\u001b[0m \u001b[32m━━━━━━━━━━━━━━━━━━━━\u001b[0m\u001b[37m\u001b[0m \u001b[1m0s\u001b[0m 5ms/step - loss: 889710720.0000 - val_loss: 521492704.0000\n",
            "Epoch 370/600\n",
            "\u001b[1m30/30\u001b[0m \u001b[32m━━━━━━━━━━━━━━━━━━━━\u001b[0m\u001b[37m\u001b[0m \u001b[1m0s\u001b[0m 5ms/step - loss: 786426112.0000 - val_loss: 520926368.0000\n",
            "Epoch 371/600\n",
            "\u001b[1m30/30\u001b[0m \u001b[32m━━━━━━━━━━━━━━━━━━━━\u001b[0m\u001b[37m\u001b[0m \u001b[1m0s\u001b[0m 5ms/step - loss: 1057693248.0000 - val_loss: 521206624.0000\n",
            "Epoch 372/600\n",
            "\u001b[1m30/30\u001b[0m \u001b[32m━━━━━━━━━━━━━━━━━━━━\u001b[0m\u001b[37m\u001b[0m \u001b[1m0s\u001b[0m 5ms/step - loss: 598708672.0000 - val_loss: 520563968.0000\n",
            "Epoch 373/600\n",
            "\u001b[1m30/30\u001b[0m \u001b[32m━━━━━━━━━━━━━━━━━━━━\u001b[0m\u001b[37m\u001b[0m \u001b[1m0s\u001b[0m 5ms/step - loss: 776310528.0000 - val_loss: 519923488.0000\n",
            "Epoch 374/600\n",
            "\u001b[1m30/30\u001b[0m \u001b[32m━━━━━━━━━━━━━━━━━━━━\u001b[0m\u001b[37m\u001b[0m \u001b[1m0s\u001b[0m 6ms/step - loss: 881267520.0000 - val_loss: 521174432.0000\n",
            "Epoch 375/600\n",
            "\u001b[1m30/30\u001b[0m \u001b[32m━━━━━━━━━━━━━━━━━━━━\u001b[0m\u001b[37m\u001b[0m \u001b[1m0s\u001b[0m 5ms/step - loss: 880039872.0000 - val_loss: 521833824.0000\n",
            "Epoch 376/600\n",
            "\u001b[1m30/30\u001b[0m \u001b[32m━━━━━━━━━━━━━━━━━━━━\u001b[0m\u001b[37m\u001b[0m \u001b[1m0s\u001b[0m 5ms/step - loss: 966295744.0000 - val_loss: 520705696.0000\n",
            "Epoch 377/600\n",
            "\u001b[1m30/30\u001b[0m \u001b[32m━━━━━━━━━━━━━━━━━━━━\u001b[0m\u001b[37m\u001b[0m \u001b[1m0s\u001b[0m 6ms/step - loss: 763551872.0000 - val_loss: 520082464.0000\n",
            "Epoch 378/600\n",
            "\u001b[1m30/30\u001b[0m \u001b[32m━━━━━━━━━━━━━━━━━━━━\u001b[0m\u001b[37m\u001b[0m \u001b[1m0s\u001b[0m 5ms/step - loss: 828819776.0000 - val_loss: 520900928.0000\n",
            "Epoch 379/600\n",
            "\u001b[1m30/30\u001b[0m \u001b[32m━━━━━━━━━━━━━━━━━━━━\u001b[0m\u001b[37m\u001b[0m \u001b[1m0s\u001b[0m 5ms/step - loss: 534200352.0000 - val_loss: 520029952.0000\n",
            "Epoch 380/600\n",
            "\u001b[1m30/30\u001b[0m \u001b[32m━━━━━━━━━━━━━━━━━━━━\u001b[0m\u001b[37m\u001b[0m \u001b[1m0s\u001b[0m 5ms/step - loss: 597548544.0000 - val_loss: 519864832.0000\n",
            "Epoch 381/600\n",
            "\u001b[1m30/30\u001b[0m \u001b[32m━━━━━━━━━━━━━━━━━━━━\u001b[0m\u001b[37m\u001b[0m \u001b[1m0s\u001b[0m 6ms/step - loss: 1228399104.0000 - val_loss: 521865824.0000\n",
            "Epoch 382/600\n",
            "\u001b[1m30/30\u001b[0m \u001b[32m━━━━━━━━━━━━━━━━━━━━\u001b[0m\u001b[37m\u001b[0m \u001b[1m0s\u001b[0m 5ms/step - loss: 707007296.0000 - val_loss: 520362272.0000\n",
            "Epoch 383/600\n",
            "\u001b[1m30/30\u001b[0m \u001b[32m━━━━━━━━━━━━━━━━━━━━\u001b[0m\u001b[37m\u001b[0m \u001b[1m0s\u001b[0m 5ms/step - loss: 727786240.0000 - val_loss: 522239136.0000\n",
            "Epoch 384/600\n",
            "\u001b[1m30/30\u001b[0m \u001b[32m━━━━━━━━━━━━━━━━━━━━\u001b[0m\u001b[37m\u001b[0m \u001b[1m0s\u001b[0m 6ms/step - loss: 1497277184.0000 - val_loss: 520988928.0000\n",
            "Epoch 385/600\n",
            "\u001b[1m30/30\u001b[0m \u001b[32m━━━━━━━━━━━━━━━━━━━━\u001b[0m\u001b[37m\u001b[0m \u001b[1m0s\u001b[0m 5ms/step - loss: 1249958400.0000 - val_loss: 520860128.0000\n",
            "Epoch 386/600\n",
            "\u001b[1m30/30\u001b[0m \u001b[32m━━━━━━━━━━━━━━━━━━━━\u001b[0m\u001b[37m\u001b[0m \u001b[1m0s\u001b[0m 5ms/step - loss: 765442112.0000 - val_loss: 520363712.0000\n",
            "Epoch 387/600\n",
            "\u001b[1m30/30\u001b[0m \u001b[32m━━━━━━━━━━━━━━━━━━━━\u001b[0m\u001b[37m\u001b[0m \u001b[1m0s\u001b[0m 5ms/step - loss: 879193280.0000 - val_loss: 519669536.0000\n",
            "Epoch 388/600\n",
            "\u001b[1m30/30\u001b[0m \u001b[32m━━━━━━━━━━━━━━━━━━━━\u001b[0m\u001b[37m\u001b[0m \u001b[1m0s\u001b[0m 5ms/step - loss: 822934912.0000 - val_loss: 520935648.0000\n",
            "Epoch 389/600\n",
            "\u001b[1m30/30\u001b[0m \u001b[32m━━━━━━━━━━━━━━━━━━━━\u001b[0m\u001b[37m\u001b[0m \u001b[1m0s\u001b[0m 5ms/step - loss: 704059328.0000 - val_loss: 520716032.0000\n",
            "Epoch 390/600\n",
            "\u001b[1m30/30\u001b[0m \u001b[32m━━━━━━━━━━━━━━━━━━━━\u001b[0m\u001b[37m\u001b[0m \u001b[1m0s\u001b[0m 5ms/step - loss: 717052480.0000 - val_loss: 520675904.0000\n",
            "Epoch 391/600\n",
            "\u001b[1m30/30\u001b[0m \u001b[32m━━━━━━━━━━━━━━━━━━━━\u001b[0m\u001b[37m\u001b[0m \u001b[1m0s\u001b[0m 5ms/step - loss: 714499520.0000 - val_loss: 520891232.0000\n",
            "Epoch 392/600\n",
            "\u001b[1m30/30\u001b[0m \u001b[32m━━━━━━━━━━━━━━━━━━━━\u001b[0m\u001b[37m\u001b[0m \u001b[1m0s\u001b[0m 5ms/step - loss: 846107456.0000 - val_loss: 520089824.0000\n",
            "Epoch 393/600\n",
            "\u001b[1m30/30\u001b[0m \u001b[32m━━━━━━━━━━━━━━━━━━━━\u001b[0m\u001b[37m\u001b[0m \u001b[1m0s\u001b[0m 5ms/step - loss: 796009280.0000 - val_loss: 520338272.0000\n",
            "Epoch 394/600\n",
            "\u001b[1m30/30\u001b[0m \u001b[32m━━━━━━━━━━━━━━━━━━━━\u001b[0m\u001b[37m\u001b[0m \u001b[1m0s\u001b[0m 5ms/step - loss: 800829824.0000 - val_loss: 519885920.0000\n",
            "Epoch 395/600\n",
            "\u001b[1m30/30\u001b[0m \u001b[32m━━━━━━━━━━━━━━━━━━━━\u001b[0m\u001b[37m\u001b[0m \u001b[1m0s\u001b[0m 5ms/step - loss: 733946816.0000 - val_loss: 519684128.0000\n",
            "Epoch 396/600\n",
            "\u001b[1m30/30\u001b[0m \u001b[32m━━━━━━━━━━━━━━━━━━━━\u001b[0m\u001b[37m\u001b[0m \u001b[1m0s\u001b[0m 6ms/step - loss: 670271808.0000 - val_loss: 519525120.0000\n",
            "Epoch 397/600\n",
            "\u001b[1m30/30\u001b[0m \u001b[32m━━━━━━━━━━━━━━━━━━━━\u001b[0m\u001b[37m\u001b[0m \u001b[1m0s\u001b[0m 6ms/step - loss: 954086976.0000 - val_loss: 520300960.0000\n",
            "Epoch 398/600\n",
            "\u001b[1m30/30\u001b[0m \u001b[32m━━━━━━━━━━━━━━━━━━━━\u001b[0m\u001b[37m\u001b[0m \u001b[1m0s\u001b[0m 5ms/step - loss: 598953728.0000 - val_loss: 519678272.0000\n",
            "Epoch 399/600\n",
            "\u001b[1m30/30\u001b[0m \u001b[32m━━━━━━━━━━━━━━━━━━━━\u001b[0m\u001b[37m\u001b[0m \u001b[1m0s\u001b[0m 5ms/step - loss: 838155200.0000 - val_loss: 519210496.0000\n",
            "Epoch 400/600\n",
            "\u001b[1m30/30\u001b[0m \u001b[32m━━━━━━━━━━━━━━━━━━━━\u001b[0m\u001b[37m\u001b[0m \u001b[1m0s\u001b[0m 5ms/step - loss: 742814208.0000 - val_loss: 520425312.0000\n",
            "Epoch 401/600\n",
            "\u001b[1m30/30\u001b[0m \u001b[32m━━━━━━━━━━━━━━━━━━━━\u001b[0m\u001b[37m\u001b[0m \u001b[1m0s\u001b[0m 5ms/step - loss: 773105984.0000 - val_loss: 519852640.0000\n",
            "Epoch 402/600\n",
            "\u001b[1m30/30\u001b[0m \u001b[32m━━━━━━━━━━━━━━━━━━━━\u001b[0m\u001b[37m\u001b[0m \u001b[1m0s\u001b[0m 5ms/step - loss: 647908800.0000 - val_loss: 519261248.0000\n",
            "Epoch 403/600\n",
            "\u001b[1m30/30\u001b[0m \u001b[32m━━━━━━━━━━━━━━━━━━━━\u001b[0m\u001b[37m\u001b[0m \u001b[1m0s\u001b[0m 8ms/step - loss: 716846336.0000 - val_loss: 519793152.0000\n",
            "Epoch 404/600\n",
            "\u001b[1m30/30\u001b[0m \u001b[32m━━━━━━━━━━━━━━━━━━━━\u001b[0m\u001b[37m\u001b[0m \u001b[1m0s\u001b[0m 9ms/step - loss: 916802560.0000 - val_loss: 519513856.0000\n",
            "Epoch 405/600\n",
            "\u001b[1m30/30\u001b[0m \u001b[32m━━━━━━━━━━━━━━━━━━━━\u001b[0m\u001b[37m\u001b[0m \u001b[1m0s\u001b[0m 9ms/step - loss: 592092864.0000 - val_loss: 519361920.0000\n",
            "Epoch 406/600\n",
            "\u001b[1m30/30\u001b[0m \u001b[32m━━━━━━━━━━━━━━━━━━━━\u001b[0m\u001b[37m\u001b[0m \u001b[1m0s\u001b[0m 7ms/step - loss: 688836224.0000 - val_loss: 521205440.0000\n",
            "Epoch 407/600\n",
            "\u001b[1m30/30\u001b[0m \u001b[32m━━━━━━━━━━━━━━━━━━━━\u001b[0m\u001b[37m\u001b[0m \u001b[1m0s\u001b[0m 7ms/step - loss: 616183680.0000 - val_loss: 520597408.0000\n",
            "Epoch 408/600\n",
            "\u001b[1m30/30\u001b[0m \u001b[32m━━━━━━━━━━━━━━━━━━━━\u001b[0m\u001b[37m\u001b[0m \u001b[1m0s\u001b[0m 8ms/step - loss: 1009181120.0000 - val_loss: 520641728.0000\n",
            "Epoch 409/600\n",
            "\u001b[1m30/30\u001b[0m \u001b[32m━━━━━━━━━━━━━━━━━━━━\u001b[0m\u001b[37m\u001b[0m \u001b[1m0s\u001b[0m 7ms/step - loss: 1152127488.0000 - val_loss: 520315040.0000\n",
            "Epoch 410/600\n",
            "\u001b[1m30/30\u001b[0m \u001b[32m━━━━━━━━━━━━━━━━━━━━\u001b[0m\u001b[37m\u001b[0m \u001b[1m0s\u001b[0m 8ms/step - loss: 659650688.0000 - val_loss: 520427456.0000\n",
            "Epoch 411/600\n",
            "\u001b[1m30/30\u001b[0m \u001b[32m━━━━━━━━━━━━━━━━━━━━\u001b[0m\u001b[37m\u001b[0m \u001b[1m0s\u001b[0m 8ms/step - loss: 887974144.0000 - val_loss: 520531232.0000\n",
            "Epoch 412/600\n",
            "\u001b[1m30/30\u001b[0m \u001b[32m━━━━━━━━━━━━━━━━━━━━\u001b[0m\u001b[37m\u001b[0m \u001b[1m0s\u001b[0m 9ms/step - loss: 854361408.0000 - val_loss: 523338688.0000\n",
            "Epoch 413/600\n",
            "\u001b[1m30/30\u001b[0m \u001b[32m━━━━━━━━━━━━━━━━━━━━\u001b[0m\u001b[37m\u001b[0m \u001b[1m0s\u001b[0m 9ms/step - loss: 557420288.0000 - val_loss: 521137696.0000\n",
            "Epoch 414/600\n",
            "\u001b[1m30/30\u001b[0m \u001b[32m━━━━━━━━━━━━━━━━━━━━\u001b[0m\u001b[37m\u001b[0m \u001b[1m1s\u001b[0m 7ms/step - loss: 807097792.0000 - val_loss: 521900512.0000\n",
            "Epoch 415/600\n",
            "\u001b[1m30/30\u001b[0m \u001b[32m━━━━━━━━━━━━━━━━━━━━\u001b[0m\u001b[37m\u001b[0m \u001b[1m0s\u001b[0m 5ms/step - loss: 733773248.0000 - val_loss: 522599008.0000\n",
            "Epoch 416/600\n",
            "\u001b[1m30/30\u001b[0m \u001b[32m━━━━━━━━━━━━━━━━━━━━\u001b[0m\u001b[37m\u001b[0m \u001b[1m0s\u001b[0m 5ms/step - loss: 828870848.0000 - val_loss: 522142592.0000\n",
            "Epoch 417/600\n",
            "\u001b[1m30/30\u001b[0m \u001b[32m━━━━━━━━━━━━━━━━━━━━\u001b[0m\u001b[37m\u001b[0m \u001b[1m0s\u001b[0m 5ms/step - loss: 808942592.0000 - val_loss: 521815296.0000\n",
            "Epoch 418/600\n",
            "\u001b[1m30/30\u001b[0m \u001b[32m━━━━━━━━━━━━━━━━━━━━\u001b[0m\u001b[37m\u001b[0m \u001b[1m0s\u001b[0m 5ms/step - loss: 800976192.0000 - val_loss: 521629184.0000\n",
            "Epoch 419/600\n",
            "\u001b[1m30/30\u001b[0m \u001b[32m━━━━━━━━━━━━━━━━━━━━\u001b[0m\u001b[37m\u001b[0m \u001b[1m0s\u001b[0m 5ms/step - loss: 857843840.0000 - val_loss: 522024928.0000\n",
            "Epoch 420/600\n",
            "\u001b[1m30/30\u001b[0m \u001b[32m━━━━━━━━━━━━━━━━━━━━\u001b[0m\u001b[37m\u001b[0m \u001b[1m0s\u001b[0m 5ms/step - loss: 610396032.0000 - val_loss: 520914528.0000\n",
            "Epoch 421/600\n",
            "\u001b[1m30/30\u001b[0m \u001b[32m━━━━━━━━━━━━━━━━━━━━\u001b[0m\u001b[37m\u001b[0m \u001b[1m0s\u001b[0m 5ms/step - loss: 753122304.0000 - val_loss: 521304896.0000\n",
            "Epoch 422/600\n",
            "\u001b[1m30/30\u001b[0m \u001b[32m━━━━━━━━━━━━━━━━━━━━\u001b[0m\u001b[37m\u001b[0m \u001b[1m0s\u001b[0m 6ms/step - loss: 876517376.0000 - val_loss: 521340576.0000\n",
            "Epoch 423/600\n",
            "\u001b[1m30/30\u001b[0m \u001b[32m━━━━━━━━━━━━━━━━━━━━\u001b[0m\u001b[37m\u001b[0m \u001b[1m0s\u001b[0m 5ms/step - loss: 794466752.0000 - val_loss: 521431968.0000\n",
            "Epoch 424/600\n",
            "\u001b[1m30/30\u001b[0m \u001b[32m━━━━━━━━━━━━━━━━━━━━\u001b[0m\u001b[37m\u001b[0m \u001b[1m0s\u001b[0m 5ms/step - loss: 836128896.0000 - val_loss: 520994464.0000\n",
            "Epoch 425/600\n",
            "\u001b[1m30/30\u001b[0m \u001b[32m━━━━━━━━━━━━━━━━━━━━\u001b[0m\u001b[37m\u001b[0m \u001b[1m0s\u001b[0m 5ms/step - loss: 767478464.0000 - val_loss: 520747296.0000\n",
            "Epoch 426/600\n",
            "\u001b[1m30/30\u001b[0m \u001b[32m━━━━━━━━━━━━━━━━━━━━\u001b[0m\u001b[37m\u001b[0m \u001b[1m0s\u001b[0m 5ms/step - loss: 909548160.0000 - val_loss: 521895168.0000\n",
            "Epoch 427/600\n",
            "\u001b[1m30/30\u001b[0m \u001b[32m━━━━━━━━━━━━━━━━━━━━\u001b[0m\u001b[37m\u001b[0m \u001b[1m0s\u001b[0m 5ms/step - loss: 658032512.0000 - val_loss: 521030592.0000\n",
            "Epoch 428/600\n",
            "\u001b[1m30/30\u001b[0m \u001b[32m━━━━━━━━━━━━━━━━━━━━\u001b[0m\u001b[37m\u001b[0m \u001b[1m0s\u001b[0m 5ms/step - loss: 880974592.0000 - val_loss: 521506656.0000\n",
            "Epoch 429/600\n",
            "\u001b[1m30/30\u001b[0m \u001b[32m━━━━━━━━━━━━━━━━━━━━\u001b[0m\u001b[37m\u001b[0m \u001b[1m0s\u001b[0m 5ms/step - loss: 962882304.0000 - val_loss: 522450176.0000\n",
            "Epoch 430/600\n",
            "\u001b[1m30/30\u001b[0m \u001b[32m━━━━━━━━━━━━━━━━━━━━\u001b[0m\u001b[37m\u001b[0m \u001b[1m0s\u001b[0m 5ms/step - loss: 730130112.0000 - val_loss: 522861568.0000\n",
            "Epoch 431/600\n",
            "\u001b[1m30/30\u001b[0m \u001b[32m━━━━━━━━━━━━━━━━━━━━\u001b[0m\u001b[37m\u001b[0m \u001b[1m0s\u001b[0m 5ms/step - loss: 616137152.0000 - val_loss: 521093152.0000\n",
            "Epoch 432/600\n",
            "\u001b[1m30/30\u001b[0m \u001b[32m━━━━━━━━━━━━━━━━━━━━\u001b[0m\u001b[37m\u001b[0m \u001b[1m0s\u001b[0m 5ms/step - loss: 723302272.0000 - val_loss: 522050368.0000\n",
            "Epoch 433/600\n",
            "\u001b[1m30/30\u001b[0m \u001b[32m━━━━━━━━━━━━━━━━━━━━\u001b[0m\u001b[37m\u001b[0m \u001b[1m0s\u001b[0m 5ms/step - loss: 612274048.0000 - val_loss: 521189536.0000\n",
            "Epoch 434/600\n",
            "\u001b[1m30/30\u001b[0m \u001b[32m━━━━━━━━━━━━━━━━━━━━\u001b[0m\u001b[37m\u001b[0m \u001b[1m0s\u001b[0m 5ms/step - loss: 578161152.0000 - val_loss: 521854752.0000\n",
            "Epoch 435/600\n",
            "\u001b[1m30/30\u001b[0m \u001b[32m━━━━━━━━━━━━━━━━━━━━\u001b[0m\u001b[37m\u001b[0m \u001b[1m0s\u001b[0m 5ms/step - loss: 670802304.0000 - val_loss: 521613792.0000\n",
            "Epoch 436/600\n",
            "\u001b[1m30/30\u001b[0m \u001b[32m━━━━━━━━━━━━━━━━━━━━\u001b[0m\u001b[37m\u001b[0m \u001b[1m0s\u001b[0m 5ms/step - loss: 661786688.0000 - val_loss: 522157920.0000\n",
            "Epoch 437/600\n",
            "\u001b[1m30/30\u001b[0m \u001b[32m━━━━━━━━━━━━━━━━━━━━\u001b[0m\u001b[37m\u001b[0m \u001b[1m0s\u001b[0m 5ms/step - loss: 758340352.0000 - val_loss: 522068480.0000\n",
            "Epoch 438/600\n",
            "\u001b[1m30/30\u001b[0m \u001b[32m━━━━━━━━━━━━━━━━━━━━\u001b[0m\u001b[37m\u001b[0m \u001b[1m0s\u001b[0m 5ms/step - loss: 926214016.0000 - val_loss: 521664832.0000\n",
            "Epoch 439/600\n",
            "\u001b[1m30/30\u001b[0m \u001b[32m━━━━━━━━━━━━━━━━━━━━\u001b[0m\u001b[37m\u001b[0m \u001b[1m0s\u001b[0m 5ms/step - loss: 703153600.0000 - val_loss: 522333088.0000\n",
            "Epoch 440/600\n",
            "\u001b[1m30/30\u001b[0m \u001b[32m━━━━━━━━━━━━━━━━━━━━\u001b[0m\u001b[37m\u001b[0m \u001b[1m0s\u001b[0m 5ms/step - loss: 697764800.0000 - val_loss: 522235136.0000\n",
            "Epoch 441/600\n",
            "\u001b[1m30/30\u001b[0m \u001b[32m━━━━━━━━━━━━━━━━━━━━\u001b[0m\u001b[37m\u001b[0m \u001b[1m0s\u001b[0m 5ms/step - loss: 808105728.0000 - val_loss: 521705536.0000\n",
            "Epoch 442/600\n",
            "\u001b[1m30/30\u001b[0m \u001b[32m━━━━━━━━━━━━━━━━━━━━\u001b[0m\u001b[37m\u001b[0m \u001b[1m0s\u001b[0m 5ms/step - loss: 1025352064.0000 - val_loss: 521774176.0000\n",
            "Epoch 443/600\n",
            "\u001b[1m30/30\u001b[0m \u001b[32m━━━━━━━━━━━━━━━━━━━━\u001b[0m\u001b[37m\u001b[0m \u001b[1m0s\u001b[0m 5ms/step - loss: 833210624.0000 - val_loss: 522834208.0000\n",
            "Epoch 444/600\n",
            "\u001b[1m30/30\u001b[0m \u001b[32m━━━━━━━━━━━━━━━━━━━━\u001b[0m\u001b[37m\u001b[0m \u001b[1m0s\u001b[0m 5ms/step - loss: 881267136.0000 - val_loss: 521141952.0000\n",
            "Epoch 445/600\n",
            "\u001b[1m30/30\u001b[0m \u001b[32m━━━━━━━━━━━━━━━━━━━━\u001b[0m\u001b[37m\u001b[0m \u001b[1m0s\u001b[0m 5ms/step - loss: 948237312.0000 - val_loss: 522507104.0000\n",
            "Epoch 446/600\n",
            "\u001b[1m30/30\u001b[0m \u001b[32m━━━━━━━━━━━━━━━━━━━━\u001b[0m\u001b[37m\u001b[0m \u001b[1m0s\u001b[0m 5ms/step - loss: 1295715072.0000 - val_loss: 522761664.0000\n",
            "Epoch 447/600\n",
            "\u001b[1m30/30\u001b[0m \u001b[32m━━━━━━━━━━━━━━━━━━━━\u001b[0m\u001b[37m\u001b[0m \u001b[1m0s\u001b[0m 5ms/step - loss: 619518976.0000 - val_loss: 521545984.0000\n",
            "Epoch 448/600\n",
            "\u001b[1m30/30\u001b[0m \u001b[32m━━━━━━━━━━━━━━━━━━━━\u001b[0m\u001b[37m\u001b[0m \u001b[1m0s\u001b[0m 5ms/step - loss: 1164063872.0000 - val_loss: 521488992.0000\n",
            "Epoch 449/600\n",
            "\u001b[1m30/30\u001b[0m \u001b[32m━━━━━━━━━━━━━━━━━━━━\u001b[0m\u001b[37m\u001b[0m \u001b[1m0s\u001b[0m 6ms/step - loss: 714609600.0000 - val_loss: 522346272.0000\n",
            "Epoch 450/600\n",
            "\u001b[1m30/30\u001b[0m \u001b[32m━━━━━━━━━━━━━━━━━━━━\u001b[0m\u001b[37m\u001b[0m \u001b[1m0s\u001b[0m 6ms/step - loss: 724734272.0000 - val_loss: 521485920.0000\n",
            "Epoch 451/600\n",
            "\u001b[1m30/30\u001b[0m \u001b[32m━━━━━━━━━━━━━━━━━━━━\u001b[0m\u001b[37m\u001b[0m \u001b[1m0s\u001b[0m 6ms/step - loss: 617399872.0000 - val_loss: 521750464.0000\n",
            "Epoch 452/600\n",
            "\u001b[1m30/30\u001b[0m \u001b[32m━━━━━━━━━━━━━━━━━━━━\u001b[0m\u001b[37m\u001b[0m \u001b[1m0s\u001b[0m 8ms/step - loss: 731527936.0000 - val_loss: 522119232.0000\n",
            "Epoch 453/600\n",
            "\u001b[1m30/30\u001b[0m \u001b[32m━━━━━━━━━━━━━━━━━━━━\u001b[0m\u001b[37m\u001b[0m \u001b[1m0s\u001b[0m 8ms/step - loss: 603126464.0000 - val_loss: 522231872.0000\n",
            "Epoch 454/600\n",
            "\u001b[1m30/30\u001b[0m \u001b[32m━━━━━━━━━━━━━━━━━━━━\u001b[0m\u001b[37m\u001b[0m \u001b[1m0s\u001b[0m 7ms/step - loss: 742215872.0000 - val_loss: 522201152.0000\n",
            "Epoch 455/600\n",
            "\u001b[1m30/30\u001b[0m \u001b[32m━━━━━━━━━━━━━━━━━━━━\u001b[0m\u001b[37m\u001b[0m \u001b[1m0s\u001b[0m 8ms/step - loss: 911717760.0000 - val_loss: 522912480.0000\n",
            "Epoch 456/600\n",
            "\u001b[1m30/30\u001b[0m \u001b[32m━━━━━━━━━━━━━━━━━━━━\u001b[0m\u001b[37m\u001b[0m \u001b[1m0s\u001b[0m 7ms/step - loss: 838284416.0000 - val_loss: 523473248.0000\n",
            "Epoch 457/600\n",
            "\u001b[1m30/30\u001b[0m \u001b[32m━━━━━━━━━━━━━━━━━━━━\u001b[0m\u001b[37m\u001b[0m \u001b[1m0s\u001b[0m 8ms/step - loss: 1175958912.0000 - val_loss: 523007840.0000\n",
            "Epoch 458/600\n",
            "\u001b[1m30/30\u001b[0m \u001b[32m━━━━━━━━━━━━━━━━━━━━\u001b[0m\u001b[37m\u001b[0m \u001b[1m0s\u001b[0m 8ms/step - loss: 900837504.0000 - val_loss: 523125216.0000\n",
            "Epoch 459/600\n",
            "\u001b[1m30/30\u001b[0m \u001b[32m━━━━━━━━━━━━━━━━━━━━\u001b[0m\u001b[37m\u001b[0m \u001b[1m1s\u001b[0m 8ms/step - loss: 1060700544.0000 - val_loss: 524310176.0000\n",
            "Epoch 459: early stopping\n",
            "Restoring model weights from the end of the best epoch: 399.\n",
            "\u001b[1m10/10\u001b[0m \u001b[32m━━━━━━━━━━━━━━━━━━━━\u001b[0m\u001b[37m\u001b[0m \u001b[1m0s\u001b[0m 12ms/step\n",
            "Root Mean Squared Error: 32782.69201880773\n",
            "R-squared: 0.859887957572937\n",
            "Mean Absolute Error: 20124.123046875\n",
            "Training time:129.0471\n",
            "\n"
          ]
        }
      ]
    },
    {
      "cell_type": "markdown",
      "source": [
        "<h4>Ensemble Regressor</h4>"
      ],
      "metadata": {
        "id": "Ohad2uU2LzxL"
      }
    },
    {
      "cell_type": "markdown",
      "source": [
        "I also want to test an Ensemble model, which is the performance of our 6 models together(not linear regressor)."
      ],
      "metadata": {
        "id": "5spN1sD3TuW0"
      }
    },
    {
      "cell_type": "code",
      "source": [
        "# flatten neural network to be the same shape of the other regressors\n",
        "nn_predictions = nn_predictions.flatten()\n",
        "\n",
        "ensemble_predictions = (svr_predictions + ridge_predictions + lasso_predictions +\n",
        "                 rf_predictions + xgb_predictions + nn_predictions) / 6\n",
        "\n",
        "# Evaluate\n",
        "ensemble_rmse = np.sqrt(mean_squared_error(y_valid, ensemble_predictions))\n",
        "ensemble_r2 = r2_score(y_valid, ensemble_predictions)\n",
        "ensemble_mae = mean_absolute_error(y_valid, ensemble_predictions)\n",
        "ensemble_time = nn_time + svr_time + ridge_time + lasso_time + rf_time + xgb_time\n",
        "\n",
        "model_rmse_scores.update({'Ensemble Regressor': ensemble_rmse})\n",
        "model_r2_scores.update({'Ensemble Regressor': ensemble_r2})\n",
        "model_mae_scores.update({'Ensemble Regressor': ensemble_mae})\n",
        "model_time_scores.update({'Ensemble Regressor': ensemble_time})\n",
        "\n",
        "print(f\"Ensemble Model - Root Mean Squared Error: {ensemble_rmse:.4f}\")\n",
        "print(f\"Ensemble Model - R-squared: {ensemble_r2:.4f}\")\n",
        "print(f\"Ensemble Model - Mean Absolute Error: {ensemble_mae:.4f}\")\n",
        "print(f\"Ensemble Model - Training time:{ensemble_time:.4f}\\n\")"
      ],
      "metadata": {
        "colab": {
          "base_uri": "https://localhost:8080/"
        },
        "id": "D0TQxM55ft3w",
        "outputId": "16abc69e-fbe0-4140-f8a8-8a1901be900e"
      },
      "execution_count": null,
      "outputs": [
        {
          "output_type": "stream",
          "name": "stdout",
          "text": [
            "Ensemble Model - Root Mean Squared Error: 27370.9801\n",
            "Ensemble Model - R-squared: 0.9023\n",
            "Ensemble Model - Mean Absolute Error: 15838.8533\n",
            "Ensemble Model - Training time:155.2455\n",
            "\n"
          ]
        }
      ]
    },
    {
      "cell_type": "markdown",
      "source": [
        "<h3>Comparing Results</h3>"
      ],
      "metadata": {
        "id": "VG4gAMoFO6ZG"
      }
    },
    {
      "cell_type": "code",
      "source": [
        "import matplotlib.pyplot as plt\n",
        "\n",
        "# Comparing the Models RMSE Scores\n",
        "sorted_rmse_scores = dict(sorted(model_rmse_scores.items(), key=lambda item: item[1], reverse=False))\n",
        "\n",
        "print(\"Model Ranking (Lowest RMSE to Highest):\")\n",
        "for i, (model, score) in enumerate(sorted_rmse_scores.items()):\n",
        "  print(f\"{i+1}. {model}: {score:.4f}\")\n",
        "\n",
        "plt.figure(figsize=(10, 6))\n",
        "plt.bar(sorted_rmse_scores.keys(), sorted_rmse_scores.values())\n",
        "plt.xlabel(\"Models\")\n",
        "plt.ylabel(\"Root Mean Squared Error\")\n",
        "plt.title(\"Model RMSE Performance Comparison\")\n",
        "plt.xticks(rotation=45, ha=\"right\")\n",
        "plt.tight_layout()\n",
        "plt.show()"
      ],
      "metadata": {
        "colab": {
          "base_uri": "https://localhost:8080/",
          "height": 763
        },
        "id": "zWZZyTdhNr8r",
        "outputId": "76ea7698-0f57-4c57-fad6-a9b136533cee"
      },
      "execution_count": null,
      "outputs": [
        {
          "output_type": "stream",
          "name": "stdout",
          "text": [
            "Model Ranking (Lowest RMSE to Highest):\n",
            "1. SVR: 25644.7244\n",
            "2. XGBoost: 26753.5657\n",
            "3. Ensemble Regressor: 27370.9801\n",
            "4. Random Forest: 30089.9626\n",
            "5. Ridge Regression: 30604.8165\n",
            "6. Lasso Regression: 31256.6601\n",
            "7. Neural Network: 32782.6920\n",
            "8. Linear: 83215.7466\n"
          ]
        },
        {
          "output_type": "display_data",
          "data": {
            "text/plain": [
              "<Figure size 1000x600 with 1 Axes>"
            ],
            "image/png": "[encoded data removed]"
          },
          "metadata": {}
        }
      ]
    },
    {
      "cell_type": "markdown",
      "source": [
        "<h4>R-Squared</h4>"
      ],
      "metadata": {
        "id": "r1el2gNtLgp7"
      }
    },
    {
      "cell_type": "code",
      "source": [
        "# Comparing the Models R-Squared scores\n",
        "sorted_r2_scores = dict(sorted(model_r2_scores.items(), key=lambda item: item[1], reverse=True))\n",
        "\n",
        "print(\"Model Ranking (Highest R-squared to Lowest):\")\n",
        "for i, (model, score) in enumerate(sorted_r2_scores.items()):\n",
        "  print(f\"{i+1}. {model}: {score:.4f}\")\n",
        "\n",
        "plt.figure(figsize=(10, 6))\n",
        "plt.bar(sorted_r2_scores.keys(), sorted_r2_scores.values())\n",
        "plt.xlabel(\"Models\")\n",
        "plt.ylabel(\"R-squared Score\")\n",
        "plt.title(\"Model R-squared Performance Comparison\")\n",
        "plt.xticks(rotation=45, ha=\"right\")\n",
        "plt.tight_layout()\n",
        "plt.show()"
      ],
      "metadata": {
        "colab": {
          "base_uri": "https://localhost:8080/",
          "height": 763
        },
        "id": "WIUaKZzYLgVe",
        "outputId": "648fb193-9b6e-41e8-ad78-146c9dcbb445"
      },
      "execution_count": null,
      "outputs": [
        {
          "output_type": "stream",
          "name": "stdout",
          "text": [
            "Model Ranking (Highest R-squared to Lowest):\n",
            "1. SVR: 0.9143\n",
            "2. XGBoost: 0.9067\n",
            "3. Ensemble Regressor: 0.9023\n",
            "4. Random Forest: 0.8820\n",
            "5. Ridge Regression: 0.8779\n",
            "6. Lasso Regression: 0.8726\n",
            "7. Neural Network: 0.8599\n",
            "8. Linear: 0.0972\n"
          ]
        },
        {
          "output_type": "display_data",
          "data": {
            "text/plain": [
              "<Figure size 1000x600 with 1 Axes>"
            ],
            "image/png": "[encoded data removed]"
          },
          "metadata": {}
        }
      ]
    },
    {
      "cell_type": "markdown",
      "source": [
        "<h4>Mean Absolute Error</h4>"
      ],
      "metadata": {
        "id": "ND9E6r8sggl6"
      }
    },
    {
      "cell_type": "code",
      "source": [
        "# Comparing the Models MAE scores\n",
        "sorted_mae_scores = dict(sorted(model_mae_scores.items(), key=lambda item: item[1], reverse=False))\n",
        "\n",
        "print(\"Model Ranking (Lowest MAE to Highest):\")\n",
        "for i, (model, score) in enumerate(sorted_mae_scores.items()):\n",
        "  print(f\"{i+1}. {model}: {score:.4f}\")\n",
        "\n",
        "plt.figure(figsize=(10, 6))\n",
        "plt.bar(sorted_mae_scores.keys(), sorted_mae_scores.values())\n",
        "plt.xlabel(\"Models\")\n",
        "plt.ylabel(\"MAE Score\")\n",
        "plt.title(\"Model MAE Performance Comparison\")\n",
        "plt.xticks(rotation=45, ha=\"right\")\n",
        "plt.tight_layout()\n",
        "plt.show()"
      ],
      "metadata": {
        "colab": {
          "base_uri": "https://localhost:8080/",
          "height": 763
        },
        "id": "Zi7rMiS7MJvH",
        "outputId": "9dd06899-28fc-4ec5-e326-df963ace37bd"
      },
      "execution_count": null,
      "outputs": [
        {
          "output_type": "stream",
          "name": "stdout",
          "text": [
            "Model Ranking (Lowest MAE to Highest):\n",
            "1. SVR: 14830.1139\n",
            "2. Ensemble Regressor: 15838.8533\n",
            "3. XGBoost: 16587.5898\n",
            "4. Random Forest: 17928.9881\n",
            "5. Lasso Regression: 18770.5251\n",
            "6. Ridge Regression: 18957.2188\n",
            "7. Neural Network: 20124.1230\n",
            "8. Linear: 23965.9897\n"
          ]
        },
        {
          "output_type": "display_data",
          "data": {
            "text/plain": [
              "<Figure size 1000x600 with 1 Axes>"
            ],
            "image/png": "[encoded data removed]"
          },
          "metadata": {}
        }
      ]
    },
    {
      "cell_type": "markdown",
      "source": [
        "<h4>Time</h4>"
      ],
      "metadata": {
        "id": "ypzr4FpAMhnI"
      }
    },
    {
      "cell_type": "code",
      "source": [
        "# Comparing the Models Time scores\n",
        "sorted_time_scores = dict(sorted(model_time_scores.items(), key=lambda item: item[1], reverse=False))\n",
        "\n",
        "print(\"Model Ranking (Lowest time to Highest):\")\n",
        "for i, (model, score) in enumerate(sorted_time_scores.items()):\n",
        "  print(f\"{i+1}. {model}: {score:.4f}\")\n",
        "\n",
        "plt.figure(figsize=(10, 6))\n",
        "plt.bar(sorted_time_scores.keys(), sorted_time_scores.values())\n",
        "plt.xlabel(\"Models\")\n",
        "plt.ylabel(\"Time (seconds)\")\n",
        "plt.title(\"Model Time Performance Comparison\")\n",
        "plt.xticks(rotation=45, ha=\"right\")\n",
        "plt.tight_layout()\n",
        "plt.show()"
      ],
      "metadata": {
        "colab": {
          "base_uri": "https://localhost:8080/",
          "height": 763
        },
        "id": "y0OJEUicMiYG",
        "outputId": "f25f23cd-8687-4c57-bd83-3e19eaf4ce25"
      },
      "execution_count": null,
      "outputs": [
        {
          "output_type": "stream",
          "name": "stdout",
          "text": [
            "Model Ranking (Lowest time to Highest):\n",
            "1. Ridge Regression: 0.0230\n",
            "2. Linear: 0.0606\n",
            "3. Lasso Regression: 0.1387\n",
            "4. SVR: 0.2693\n",
            "5. Random Forest: 9.5498\n",
            "6. XGBoost: 16.2176\n",
            "7. Neural Network: 129.0471\n",
            "8. Ensemble Regressor: 155.2455\n"
          ]
        },
        {
          "output_type": "display_data",
          "data": {
            "text/plain": [
              "<Figure size 1000x600 with 1 Axes>"
            ],
            "image/png": "[encoded data removed]"
          },
          "metadata": {}
        }
      ]
    },
    {
      "cell_type": "code",
      "source": [
        "from sklearn.model_selection import cross_val_score\n",
        "svr = SVR(kernel='poly', C=10000, epsilon=15000, gamma='scale', degree=3, coef0=3)\n",
        "\n",
        "cv_rmse_scores = {}\n",
        "cv_r2_scores = {}\n",
        "cv_mae_scores = {}\n",
        "cv_time_scores = {}\n",
        "# Perform cross-validation\n",
        "n_folds =[20, 50, 100, 200]\n",
        "for fold in n_folds:\n",
        "  start_time_cv = time.time()\n",
        "  rmse_scores = cross_val_score(svr, X_train, y_train, cv=fold, scoring='neg_root_mean_squared_error')\n",
        "  rmse_scores = -rmse_scores\n",
        "  r2_scores = cross_val_score(svr, X_train, y_train, cv=fold, scoring='r2')\n",
        "  mae_scores = cross_val_score(svr, X_train, y_train, cv=fold, scoring='neg_mean_absolute_error')\n",
        "  mae_scores = -mae_scores\n",
        "  end_time_cv = time.time()\n",
        "  runtime_cv = end_time_cv - start_time_cv\n",
        "\n",
        "  cv_rmse_scores[f'{fold} folds'] = rmse_scores\n",
        "  cv_r2_scores[f'{fold} folds'] = r2_scores\n",
        "  cv_mae_scores[f'{fold} folds'] = mae_scores\n",
        "  cv_time_scores[f'{fold} folds'] = runtime_cv\n",
        "\n",
        "  print(f\"SVR Cross-Validation Performance for {fold} folds:\")\n",
        "  print(f\"Mean RMSE: {np.mean(rmse_scores):.4f}\")\n",
        "  print(f\"Mean R2: {np.mean(r2_scores):.4f}\")\n",
        "  print(f\"Mean MAE: {np.mean(mae_scores):.4f}\")\n",
        "  print(f\"Runtime: {runtime_cv:.2f} seconds\")\n"
      ],
      "metadata": {
        "colab": {
          "base_uri": "https://localhost:8080/"
        },
        "id": "82ASZv9V4_Md",
        "outputId": "732b2d4a-2457-4dc1-a95d-0e9482897153"
      },
      "execution_count": null,
      "outputs": [
        {
          "output_type": "stream",
          "name": "stdout",
          "text": [
            "SVR Cross-Validation Performance for 20 folds:\n",
            "Mean RMSE: 26749.2751\n",
            "Mean R2: 0.8231\n",
            "Mean MAE: 15688.6787\n",
            "Runtime: 11.33 seconds\n",
            "SVR Cross-Validation Performance for 50 folds:\n",
            "Mean RMSE: 24362.3007\n",
            "Mean R2: 0.7899\n",
            "Mean MAE: 15510.4033\n",
            "Runtime: 33.46 seconds\n",
            "SVR Cross-Validation Performance for 100 folds:\n",
            "Mean RMSE: 22610.6342\n",
            "Mean R2: 0.7743\n",
            "Mean MAE: 15436.3025\n",
            "Runtime: 65.69 seconds\n",
            "SVR Cross-Validation Performance for 200 folds:\n",
            "Mean RMSE: 20788.4417\n",
            "Mean R2: 0.6651\n",
            "Mean MAE: 15401.4833\n",
            "Runtime: 134.67 seconds\n"
          ]
        }
      ]
    },
    {
      "cell_type": "markdown",
      "source": [
        "As I increased the amount of folds in the set, all metrics improved except for the runtime and r-squared, leading me to believe a model with a higher bias may perform better. Now I would increase the amount of folds much more, however I do not have the computational power for that."
      ],
      "metadata": {
        "id": "fy9jt-nUzPM5"
      }
    },
    {
      "cell_type": "code",
      "source": [
        "mean_target = np.mean(y_train)\n",
        "std_target = np.std(y_train)\n",
        "\n",
        "print(f\"Mean house price: {mean_target:.2f}\")\n",
        "print(f\"Standard deviation of house prices: {std_target:.2f}\")"
      ],
      "metadata": {
        "colab": {
          "base_uri": "https://localhost:8080/"
        },
        "id": "rltauCWKeGBV",
        "outputId": "cbfe2482-a1c2-4d57-90af-7b949cf286d9"
      },
      "execution_count": null,
      "outputs": [
        {
          "output_type": "stream",
          "name": "stdout",
          "text": [
            "Mean house price: 181441.54\n",
            "Standard deviation of house prices: 77230.50\n"
          ]
        }
      ]
    },
    {
      "cell_type": "code",
      "source": [
        "\n",
        "model_scores = pd.DataFrame({\n",
        "    'Model': list(model_rmse_scores.keys()),\n",
        "    'RMSE': list(model_rmse_scores.values()),\n",
        "    'R-Squared': list(model_r2_scores.values()),\n",
        "    'MAE': list(model_mae_scores.values()),\n",
        "    'Time': list(model_time_scores.values())\n",
        "})\n",
        "\n",
        "# Sort by RMSE\n",
        "model_scores = model_scores.sort_values('RMSE')\n",
        "model_scores['RMSE'] = model_scores['RMSE'].astype(int)\n",
        "model_scores['MAE'] = model_scores['MAE'].astype(int)\n",
        "model_scores['Time'] = model_scores['Time'].round(2)\n",
        "model_scores['R-Squared'] = model_scores['R-Squared'].round(3)\n",
        "\n",
        "fig, ax = plt.subplots(figsize=(10, 6))\n",
        "ax.axis('off')\n",
        "the_table = ax.table(cellText=model_scores.values,\n",
        "                    colLabels=model_scores.columns,\n",
        "                    loc='center',\n",
        "                    cellLoc='center')\n",
        "\n",
        "the_table.auto_set_font_size(False)\n",
        "the_table.set_fontsize(10)\n",
        "the_table.scale(1.2, 1.2)\n",
        "\n",
        "for (row, col), cell in the_table.get_celld().items():\n",
        "  if row == 0:\n",
        "    cell.set_text_props(weight='bold', color='black')\n",
        "    cell.set_facecolor('#ADD8E6')\n",
        "\n",
        "for i in range(1, len(model_scores)):\n",
        "  if i % 2 == 1:\n",
        "    for (row, col), cell in the_table.get_celld().items():\n",
        "        if row == i + 1:\n",
        "            cell.set_facecolor('#EEEEEE')\n",
        "\n",
        "plt.show()"
      ],
      "metadata": {
        "colab": {
          "base_uri": "https://localhost:8080/"
        },
        "id": "hrqFX-LVfPz7",
        "outputId": "0e30ee3a-60e2-419d-b10a-af1c1299cd97"
      },
      "execution_count": null,
      "outputs": [
        {
          "output_type": "display_data",
          "data": {
            "text/plain": [
              "<Figure size 1000x600 with 1 Axes>"
            ],
            "image/png": "[encoded data removed]"
          },
          "metadata": {}
        }
      ]
    }
  ]
}